{
 "cells": [
  {
   "cell_type": "code",
   "execution_count": 16,
   "metadata": {
    "collapsed": true
   },
   "outputs": [],
   "source": [
    "import pandas as pd\n",
    "import numpy as np\n",
    "import pytz \n",
    "import datetime\n",
    "df = pd.read_csv(\"C:/Shaukat/code/data_rep/bom/historical_data/2013-2016/TAS/HM01X_Data_091107_999999999405613.txt\")"
   ]
  },
  {
   "cell_type": "code",
   "execution_count": 23,
   "metadata": {
    "collapsed": true
   },
   "outputs": [],
   "source": [
    "def convert_to_utc(time_zone_string, naive_datetime, is_dst_bool=None):\n",
    "    print is_dst_bool\n",
    "    local_timezone = pytz.timezone(time_zone_string)\n",
    "    local_dt = local_timezone.localize(naive_datetime, is_dst=is_dst_bool)\n",
    "    utc_dt = local_dt.astimezone(pytz.utc)\n",
    "    return utc_dt, local_dt"
   ]
  },
  {
   "cell_type": "code",
   "execution_count": 18,
   "metadata": {
    "collapsed": false
   },
   "outputs": [],
   "source": [
    "# print pytz.__version__"
   ]
  },
  {
   "cell_type": "code",
   "execution_count": 32,
   "metadata": {
    "collapsed": false
   },
   "outputs": [
    {
     "name": "stdout",
     "output_type": "stream",
     "text": [
      "2017-04-10 00:00:00\n",
      "2017-04-10 00:00:00+10:00\n",
      "2017-04-09 14:00:00+00:00\n",
      "2017.2\n"
     ]
    }
   ],
   "source": [
    "# http://stackoverflow.com/questions/79797/how-do-i-convert-local-time-to-utc-in-python\n",
    "# class datetime.datetime(year, month, day[, hour[, minute[, second[, microsecond[, tzinfo]]]]])¶\n",
    "    \n",
    "local = pytz.timezone('Australia/Hobart')\n",
    "naive = datetime.datetime(2017,4,10,0,0,0)\n",
    "print naive\n",
    "local_dt = local.localize(naive, is_dst=None)\n",
    "# local_dt = local.localize(naive)\n",
    "print local_dt\n",
    "utc_dt = local_dt.astimezone(pytz.utc)\n",
    "print utc_dt\n",
    "print pytz.__version__"
   ]
  },
  {
   "cell_type": "code",
   "execution_count": 34,
   "metadata": {
    "collapsed": false
   },
   "outputs": [
    {
     "name": "stdout",
     "output_type": "stream",
     "text": [
      "None\n",
      "naive_datetime:  2017-03-10 00:00:00\n",
      "local date:  2017-03-10 00:00:00+11:00 UTC_datetime:  2017-03-09 13:00:00+00:00\n"
     ]
    }
   ],
   "source": [
    "# print convert_to_utc('Australia/Hobart', naive, True)\n",
    "# print convert_to_utc('Australia/Hobart', datetime.datetime.strptime(\"2013-01-01 00:00:00\", \"%Y-%m-%d %H:%M:%S\"), True) \n",
    "\n",
    "naive = datetime.datetime(2017,3,10,0,0,0)\n",
    "utc_date, local_date = convert_to_utc('Australia/Hobart', naive, None) \n",
    "\n",
    "print 'naive_datetime: ', naive\n",
    "print 'local date: ', local_date, 'UTC_datetime: ',utc_date "
   ]
  },
  {
   "cell_type": "code",
   "execution_count": null,
   "metadata": {
    "collapsed": true
   },
   "outputs": [],
   "source": []
  }
 ],
 "metadata": {
  "anaconda-cloud": {},
  "kernelspec": {
   "display_name": "Python [conda env:sequential_regression]",
   "language": "python",
   "name": "conda-env-sequential_regression-py"
  },
  "language_info": {
   "codemirror_mode": {
    "name": "ipython",
    "version": 2
   },
   "file_extension": ".py",
   "mimetype": "text/x-python",
   "name": "python",
   "nbconvert_exporter": "python",
   "pygments_lexer": "ipython2",
   "version": "2.7.13"
  }
 },
 "nbformat": 4,
 "nbformat_minor": 1
}
