{
 "cells": [
  {
   "cell_type": "code",
   "execution_count": 1,
   "metadata": {
    "collapsed": true
   },
   "outputs": [],
   "source": [
    "import pandas as pd\n",
    "import numpy as np\n",
    "import pytz \n",
    "import datetime\n",
    "df = pd.read_csv(\"C:/Shaukat/code/data_rep/bom/historical_data/2013-2016/TAS/HM01X_Data_091107_999999999405613.txt\")"
   ]
  },
  {
   "cell_type": "code",
   "execution_count": 2,
   "metadata": {
    "collapsed": false
   },
   "outputs": [],
   "source": [
    "# df.to_csv('Data_091107.csv')"
   ]
  },
  {
   "cell_type": "code",
   "execution_count": 3,
   "metadata": {
    "collapsed": false
   },
   "outputs": [
    {
     "data": {
      "text/plain": [
       "Index(['hm', 'Station Number', 'Year Month Day Hour Minutes in YYYY', 'MM',\n",
       "       'DD', 'HH24', 'MI format in Local time',\n",
       "       'Year Month Day Hour Minutes in YYYY.1', 'MM.1', 'DD.1', 'HH24.1',\n",
       "       'MI format in Local standard time',\n",
       "       'Time used for closest observation in YYYY', 'MM.2', 'DD.2', 'HH24.2',\n",
       "       'MI format in Local standard time.1',\n",
       "       'Precipitation since 9am local time in mm',\n",
       "       'Quality of precipitation since 9am local time',\n",
       "       'Air Temperature in degrees C', 'Quality of air temperature',\n",
       "       'Wet bulb temperature in degrees C', 'Quality of Wet bulb temperature',\n",
       "       'Dew point temperature in degrees C',\n",
       "       'Quality of dew point temperature', 'Relative humidity in percentage %',\n",
       "       'Quality of relative humidity', 'Wind speed in km/h',\n",
       "       'Wind speed quality', 'Wind direction in degrees true',\n",
       "       'Wind direction quality',\n",
       "       'Speed of maximum windgust in last 10 minutes in  km/h',\n",
       "       'Quality of speed of maximum windgust in last 10 minutes',\n",
       "       'Mean sea level pressure in hPa', 'Quality of mean sea level pressure',\n",
       "       'Station level pressure in hPa', 'Quality of station level pressure',\n",
       "       'AWS Flag', '#'],\n",
       "      dtype='object')"
      ]
     },
     "execution_count": 3,
     "metadata": {},
     "output_type": "execute_result"
    }
   ],
   "source": [
    "df.columns"
   ]
  },
  {
   "cell_type": "code",
   "execution_count": 4,
   "metadata": {
    "collapsed": false
   },
   "outputs": [
    {
     "data": {
      "text/html": [
       "<div>\n",
       "<table border=\"1\" class=\"dataframe\">\n",
       "  <thead>\n",
       "    <tr style=\"text-align: right;\">\n",
       "      <th></th>\n",
       "      <th>hm</th>\n",
       "      <th>Station Number</th>\n",
       "      <th>Year Month Day Hour Minutes in YYYY</th>\n",
       "      <th>MM</th>\n",
       "      <th>DD</th>\n",
       "      <th>HH24</th>\n",
       "      <th>MI format in Local time</th>\n",
       "      <th>Year Month Day Hour Minutes in YYYY.1</th>\n",
       "      <th>MM.1</th>\n",
       "      <th>DD.1</th>\n",
       "      <th>...</th>\n",
       "      <th>Wind direction in degrees true</th>\n",
       "      <th>Wind direction quality</th>\n",
       "      <th>Speed of maximum windgust in last 10 minutes in  km/h</th>\n",
       "      <th>Quality of speed of maximum windgust in last 10 minutes</th>\n",
       "      <th>Mean sea level pressure in hPa</th>\n",
       "      <th>Quality of mean sea level pressure</th>\n",
       "      <th>Station level pressure in hPa</th>\n",
       "      <th>Quality of station level pressure</th>\n",
       "      <th>AWS Flag</th>\n",
       "      <th>#</th>\n",
       "    </tr>\n",
       "  </thead>\n",
       "  <tbody>\n",
       "    <tr>\n",
       "      <th>0</th>\n",
       "      <td>hm</td>\n",
       "      <td>91107</td>\n",
       "      <td>2013</td>\n",
       "      <td>1</td>\n",
       "      <td>1</td>\n",
       "      <td>1</td>\n",
       "      <td>0</td>\n",
       "      <td>2013</td>\n",
       "      <td>1</td>\n",
       "      <td>1</td>\n",
       "      <td>...</td>\n",
       "      <td>280</td>\n",
       "      <td>N</td>\n",
       "      <td>28</td>\n",
       "      <td>N</td>\n",
       "      <td>1008.5</td>\n",
       "      <td>N</td>\n",
       "      <td>1007.1</td>\n",
       "      <td>N</td>\n",
       "      <td>1</td>\n",
       "      <td>#</td>\n",
       "    </tr>\n",
       "    <tr>\n",
       "      <th>1</th>\n",
       "      <td>hm</td>\n",
       "      <td>91107</td>\n",
       "      <td>2013</td>\n",
       "      <td>1</td>\n",
       "      <td>1</td>\n",
       "      <td>2</td>\n",
       "      <td>0</td>\n",
       "      <td>2013</td>\n",
       "      <td>1</td>\n",
       "      <td>1</td>\n",
       "      <td>...</td>\n",
       "      <td>290</td>\n",
       "      <td>N</td>\n",
       "      <td>26</td>\n",
       "      <td>N</td>\n",
       "      <td>1008.1</td>\n",
       "      <td>N</td>\n",
       "      <td>1006.7</td>\n",
       "      <td>N</td>\n",
       "      <td>1</td>\n",
       "      <td>#</td>\n",
       "    </tr>\n",
       "    <tr>\n",
       "      <th>2</th>\n",
       "      <td>hm</td>\n",
       "      <td>91107</td>\n",
       "      <td>2013</td>\n",
       "      <td>1</td>\n",
       "      <td>1</td>\n",
       "      <td>3</td>\n",
       "      <td>0</td>\n",
       "      <td>2013</td>\n",
       "      <td>1</td>\n",
       "      <td>1</td>\n",
       "      <td>...</td>\n",
       "      <td>280</td>\n",
       "      <td>N</td>\n",
       "      <td>26</td>\n",
       "      <td>N</td>\n",
       "      <td>1007.2</td>\n",
       "      <td>N</td>\n",
       "      <td>1005.8</td>\n",
       "      <td>N</td>\n",
       "      <td>1</td>\n",
       "      <td>#</td>\n",
       "    </tr>\n",
       "  </tbody>\n",
       "</table>\n",
       "<p>3 rows × 39 columns</p>\n",
       "</div>"
      ],
      "text/plain": [
       "   hm  Station Number  Year Month Day Hour Minutes in YYYY  MM  DD  HH24  \\\n",
       "0  hm           91107                                 2013   1   1     1   \n",
       "1  hm           91107                                 2013   1   1     2   \n",
       "2  hm           91107                                 2013   1   1     3   \n",
       "\n",
       "   MI format in Local time  Year Month Day Hour Minutes in YYYY.1  MM.1  DD.1  \\\n",
       "0                        0                                   2013     1     1   \n",
       "1                        0                                   2013     1     1   \n",
       "2                        0                                   2013     1     1   \n",
       "\n",
       "  ...  Wind direction in degrees true  Wind direction quality  \\\n",
       "0 ...                             280                       N   \n",
       "1 ...                             290                       N   \n",
       "2 ...                             280                       N   \n",
       "\n",
       "  Speed of maximum windgust in last 10 minutes in  km/h  \\\n",
       "0                                                 28      \n",
       "1                                                 26      \n",
       "2                                                 26      \n",
       "\n",
       "  Quality of speed of maximum windgust in last 10 minutes  \\\n",
       "0                                                  N        \n",
       "1                                                  N        \n",
       "2                                                  N        \n",
       "\n",
       "  Mean sea level pressure in hPa Quality of mean sea level pressure  \\\n",
       "0                         1008.5                                  N   \n",
       "1                         1008.1                                  N   \n",
       "2                         1007.2                                  N   \n",
       "\n",
       "  Station level pressure in hPa Quality of station level pressure AWS Flag  #  \n",
       "0                        1007.1                                 N        1  #  \n",
       "1                        1006.7                                 N        1  #  \n",
       "2                        1005.8                                 N        1  #  \n",
       "\n",
       "[3 rows x 39 columns]"
      ]
     },
     "execution_count": 4,
     "metadata": {},
     "output_type": "execute_result"
    }
   ],
   "source": [
    "df.head(3)"
   ]
  },
  {
   "cell_type": "code",
   "execution_count": 5,
   "metadata": {
    "collapsed": false
   },
   "outputs": [],
   "source": [
    "# pytz.country_timezones.values()"
   ]
  },
  {
   "cell_type": "code",
   "execution_count": 6,
   "metadata": {
    "collapsed": false
   },
   "outputs": [],
   "source": [
    "# class datetime.datetime(year, month, day[, hour[, minute[, second[, microsecond[, tzinfo]]]]])¶\n",
    "# df['Datetime'] = df.apply(lambda row: datetime.datetime(row['Year'], row['Month'], row['Day']), axis=1)\n",
    "df['LocalDateTime_mmddyyyy'] = df.apply(lambda row: datetime.datetime(row['Year Month Day Hour Minutes in YYYY'], row['MM'], row['DD'], row['HH24']), axis=1)"
   ]
  },
  {
   "cell_type": "code",
   "execution_count": 7,
   "metadata": {
    "collapsed": false
   },
   "outputs": [],
   "source": [
    "# Localize the index (using tz_localize) to UTC (to make the Timestamps timezone-aware) \n",
    "# and then convert to Eastern (using tz_convert):\n",
    "# df.LocalDateTime_mmddyyyy.tz_localize('Australia/Hobart')    \n",
    "df.set_index(df.LocalDateTime_mmddyyyy, inplace=True)"
   ]
  },
  {
   "cell_type": "code",
   "execution_count": 8,
   "metadata": {
    "collapsed": true
   },
   "outputs": [],
   "source": [
    "# df.to_csv('delete.csv')"
   ]
  },
  {
   "cell_type": "code",
   "execution_count": 9,
   "metadata": {
    "collapsed": false
   },
   "outputs": [],
   "source": [
    "# Make it aware of Current zone\n",
    "# df.LocalDateTime_mmddyyyy.dt.tz_localize('Australia/Hobart').tz_convert('UTC')\n",
    "\n",
    "# df['localtime_aware'] = df.index.tz_localize('Australia/Hobart')\n",
    "# df['UTC'] = df.index.tz_localize('Australia/Hobart')."
   ]
  },
  {
   "cell_type": "code",
   "execution_count": 17,
   "metadata": {
    "collapsed": false
   },
   "outputs": [],
   "source": [
    "df = df.tz_localize(None)"
   ]
  },
  {
   "cell_type": "code",
   "execution_count": 29,
   "metadata": {
    "collapsed": false
   },
   "outputs": [],
   "source": [
    "df['df_UTC'] = df.index.tz_localize('UTC')"
   ]
  },
  {
   "cell_type": "code",
   "execution_count": 32,
   "metadata": {
    "collapsed": false
   },
   "outputs": [
    {
     "data": {
      "text/plain": [
       "LocalDateTime_mmddyyyy\n",
       "2013-01-01 01:00:00   2013-01-01 12:00:00+11:00\n",
       "2013-01-01 02:00:00   2013-01-01 13:00:00+11:00\n",
       "2013-01-01 03:00:00   2013-01-01 14:00:00+11:00\n",
       "2013-01-01 04:00:00   2013-01-01 15:00:00+11:00\n",
       "2013-01-01 05:00:00   2013-01-01 16:00:00+11:00\n",
       "2013-01-01 06:00:00   2013-01-01 17:00:00+11:00\n",
       "2013-01-01 07:00:00   2013-01-01 18:00:00+11:00\n",
       "2013-01-01 08:00:00   2013-01-01 19:00:00+11:00\n",
       "2013-01-01 09:00:00   2013-01-01 20:00:00+11:00\n",
       "2013-01-01 10:00:00   2013-01-01 21:00:00+11:00\n",
       "2013-01-01 11:00:00   2013-01-01 22:00:00+11:00\n",
       "2013-01-01 12:00:00   2013-01-01 23:00:00+11:00\n",
       "2013-01-01 13:00:00   2013-01-02 00:00:00+11:00\n",
       "2013-01-01 14:00:00   2013-01-02 01:00:00+11:00\n",
       "2013-01-01 15:00:00   2013-01-02 02:00:00+11:00\n",
       "2013-01-01 16:00:00   2013-01-02 03:00:00+11:00\n",
       "2013-01-01 17:00:00   2013-01-02 04:00:00+11:00\n",
       "2013-01-01 18:00:00   2013-01-02 05:00:00+11:00\n",
       "2013-01-01 19:00:00   2013-01-02 06:00:00+11:00\n",
       "2013-01-01 20:00:00   2013-01-02 07:00:00+11:00\n",
       "2013-01-01 21:00:00   2013-01-02 08:00:00+11:00\n",
       "2013-01-01 22:00:00   2013-01-02 09:00:00+11:00\n",
       "2013-01-01 23:00:00   2013-01-02 10:00:00+11:00\n",
       "2013-01-02 00:00:00   2013-01-02 11:00:00+11:00\n",
       "2013-01-02 01:00:00   2013-01-02 12:00:00+11:00\n",
       "2013-01-02 02:00:00   2013-01-02 13:00:00+11:00\n",
       "2013-01-02 03:00:00   2013-01-02 14:00:00+11:00\n",
       "2013-01-02 04:00:00   2013-01-02 15:00:00+11:00\n",
       "2013-01-02 05:00:00   2013-01-02 16:00:00+11:00\n",
       "2013-01-02 06:00:00   2013-01-02 17:00:00+11:00\n",
       "                                 ...           \n",
       "2017-03-16 07:00:00   2017-03-16 18:00:00+11:00\n",
       "2017-03-16 08:00:00   2017-03-16 19:00:00+11:00\n",
       "2017-03-16 09:00:00   2017-03-16 20:00:00+11:00\n",
       "2017-03-16 10:00:00   2017-03-16 21:00:00+11:00\n",
       "2017-03-16 11:00:00   2017-03-16 22:00:00+11:00\n",
       "2017-03-16 12:00:00   2017-03-16 23:00:00+11:00\n",
       "2017-03-16 13:00:00   2017-03-17 00:00:00+11:00\n",
       "2017-03-16 14:00:00   2017-03-17 01:00:00+11:00\n",
       "2017-03-16 15:00:00   2017-03-17 02:00:00+11:00\n",
       "2017-03-16 16:00:00   2017-03-17 03:00:00+11:00\n",
       "2017-03-16 17:00:00   2017-03-17 04:00:00+11:00\n",
       "2017-03-16 18:00:00   2017-03-17 05:00:00+11:00\n",
       "2017-03-16 19:00:00   2017-03-17 06:00:00+11:00\n",
       "2017-03-16 20:00:00   2017-03-17 07:00:00+11:00\n",
       "2017-03-16 21:00:00   2017-03-17 08:00:00+11:00\n",
       "2017-03-16 22:00:00   2017-03-17 09:00:00+11:00\n",
       "2017-03-16 23:00:00   2017-03-17 10:00:00+11:00\n",
       "2017-03-17 00:00:00   2017-03-17 11:00:00+11:00\n",
       "2017-03-17 01:00:00   2017-03-17 12:00:00+11:00\n",
       "2017-03-17 02:00:00   2017-03-17 13:00:00+11:00\n",
       "2017-03-17 03:00:00   2017-03-17 14:00:00+11:00\n",
       "2017-03-17 04:00:00   2017-03-17 15:00:00+11:00\n",
       "2017-03-17 05:00:00   2017-03-17 16:00:00+11:00\n",
       "2017-03-17 06:00:00   2017-03-17 17:00:00+11:00\n",
       "2017-03-17 07:00:00   2017-03-17 18:00:00+11:00\n",
       "2017-03-17 08:00:00   2017-03-17 19:00:00+11:00\n",
       "2017-03-17 09:00:00   2017-03-17 20:00:00+11:00\n",
       "2017-03-17 10:00:00   2017-03-17 21:00:00+11:00\n",
       "2017-03-17 11:00:00   2017-03-17 22:00:00+11:00\n",
       "2017-03-17 12:00:00   2017-03-17 23:00:00+11:00\n",
       "Name: df_UTC, dtype: datetime64[ns, Australia/Hobart]"
      ]
     },
     "execution_count": 32,
     "metadata": {},
     "output_type": "execute_result"
    }
   ],
   "source": [
    "# df.df_UTC.dt.tz_convert('Australia/Hobart')"
   ]
  },
  {
   "cell_type": "code",
   "execution_count": null,
   "metadata": {
    "collapsed": true
   },
   "outputs": [],
   "source": []
  }
 ],
 "metadata": {
  "anaconda-cloud": {},
  "kernelspec": {
   "display_name": "Python [conda root]",
   "language": "python",
   "name": "conda-root-py"
  },
  "language_info": {
   "codemirror_mode": {
    "name": "ipython",
    "version": 3
   },
   "file_extension": ".py",
   "mimetype": "text/x-python",
   "name": "python",
   "nbconvert_exporter": "python",
   "pygments_lexer": "ipython3",
   "version": "3.5.2"
  }
 },
 "nbformat": 4,
 "nbformat_minor": 1
}
