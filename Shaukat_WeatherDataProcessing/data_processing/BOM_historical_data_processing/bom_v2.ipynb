{
 "cells": [
  {
   "cell_type": "code",
   "execution_count": 1,
   "metadata": {
    "collapsed": true
   },
   "outputs": [],
   "source": [
    "import pandas as pd\n",
    "import numpy as np\n",
    "\n",
    "df = pd.read_csv(\"C:/Shaukat/code/data_rep/bom/historical_data/2013-2016/TAS/HM01X_Data_091107_999999999405613.txt\")"
   ]
  },
  {
   "cell_type": "code",
   "execution_count": 2,
   "metadata": {
    "collapsed": false
   },
   "outputs": [],
   "source": [
    "# df.to_csv('Data_091107.csv')"
   ]
  },
  {
   "cell_type": "code",
   "execution_count": 3,
   "metadata": {
    "collapsed": false
   },
   "outputs": [],
   "source": [
    "# Converting columns into float\n",
    "df['Precipitation since 9am local time in mm'] =  pd.to_numeric(df['Precipitation since 9am local time in mm'], errors='coerce')\n",
    "\n",
    "# Appending past values in a separate column\n",
    "df['precp_p1'] = df['Precipitation since 9am local time in mm'].shift(1)\n",
    "s# Calculating rainfall since last hour\n",
    "df['rainfall_since_last_hour'] = df['Precipitation since 9am local time in mm'] - df['precp_p1']\n",
    "\n",
    "# Modifying all negative values in a column by 0\n",
    "df.loc[df['rainfall_since_last_hour'] < 0, 'rainfall_since_last_hour'] = 0.0 \n"
   ]
  },
  {
   "cell_type": "code",
   "execution_count": 4,
   "metadata": {
    "collapsed": false
   },
   "outputs": [],
   "source": [
    "df.to_csv('trial_for_rainfall.csv')"
   ]
  },
  {
   "cell_type": "code",
   "execution_count": null,
   "metadata": {
    "collapsed": false
   },
   "outputs": [],
   "source": [
    "df.rainfall_since_last_hour"
   ]
  },
  {
   "cell_type": "code",
   "execution_count": null,
   "metadata": {
    "collapsed": false
   },
   "outputs": [],
   "source": [
    "df = pd.concat([df_aug,df_sep,df_oct,df_nov], axis=0)\n",
    "df.reset_index(inplace=True)\n",
    "\n",
    "# set UTC time as the index of df \n",
    "df.UtcTime = pd.to_datetime(df.UtcTime)\n",
    "df.set_index('UtcTime', inplace=True)"
   ]
  }
 ],
 "metadata": {
  "anaconda-cloud": {},
  "kernelspec": {
   "display_name": "Python [conda env:sequential_regression]",
   "language": "python",
   "name": "conda-env-sequential_regression-py"
  },
  "language_info": {
   "codemirror_mode": {
    "name": "ipython",
    "version": 2
   },
   "file_extension": ".py",
   "mimetype": "text/x-python",
   "name": "python",
   "nbconvert_exporter": "python",
   "pygments_lexer": "ipython2",
   "version": "2.7.13"
  }
 },
 "nbformat": 4,
 "nbformat_minor": 1
}
