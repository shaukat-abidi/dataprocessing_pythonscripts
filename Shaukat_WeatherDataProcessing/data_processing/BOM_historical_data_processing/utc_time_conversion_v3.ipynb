{
 "cells": [
  {
   "cell_type": "code",
   "execution_count": 63,
   "metadata": {
    "collapsed": true
   },
   "outputs": [],
   "source": [
    "import pandas as pd\n",
    "import numpy as np\n",
    "import pytz \n",
    "import datetime\n",
    "df = pd.read_csv(\"C:/Shaukat/code/data_rep/bom/historical_data/2013-2016/TAS/HM01X_Data_091107_999999999405613.txt\")"
   ]
  },
  {
   "cell_type": "code",
   "execution_count": 64,
   "metadata": {
    "collapsed": false
   },
   "outputs": [],
   "source": [
    "# df.to_csv('Data_091107.csv')"
   ]
  },
  {
   "cell_type": "code",
   "execution_count": 65,
   "metadata": {
    "collapsed": false
   },
   "outputs": [
    {
     "data": {
      "text/plain": [
       "Index([u'hm', u'Station Number', u'Year Month Day Hour Minutes in YYYY', u'MM',\n",
       "       u'DD', u'HH24', u'MI format in Local time',\n",
       "       u'Year Month Day Hour Minutes in YYYY.1', u'MM.1', u'DD.1', u'HH24.1',\n",
       "       u'MI format in Local standard time',\n",
       "       u'Time used for closest observation in YYYY', u'MM.2', u'DD.2',\n",
       "       u'HH24.2', u'MI format in Local standard time.1',\n",
       "       u'Precipitation since 9am local time in mm',\n",
       "       u'Quality of precipitation since 9am local time',\n",
       "       u'Air Temperature in degrees C', u'Quality of air temperature',\n",
       "       u'Wet bulb temperature in degrees C',\n",
       "       u'Quality of Wet bulb temperature',\n",
       "       u'Dew point temperature in degrees C',\n",
       "       u'Quality of dew point temperature',\n",
       "       u'Relative humidity in percentage %', u'Quality of relative humidity',\n",
       "       u'Wind speed in km/h', u'Wind speed quality',\n",
       "       u'Wind direction in degrees true', u'Wind direction quality',\n",
       "       u'Speed of maximum windgust in last 10 minutes in  km/h',\n",
       "       u'Quality of speed of maximum windgust in last 10 minutes',\n",
       "       u'Mean sea level pressure in hPa',\n",
       "       u'Quality of mean sea level pressure', u'Station level pressure in hPa',\n",
       "       u'Quality of station level pressure', u'AWS Flag', u'#'],\n",
       "      dtype='object')"
      ]
     },
     "execution_count": 65,
     "metadata": {},
     "output_type": "execute_result"
    }
   ],
   "source": [
    "df.columns"
   ]
  },
  {
   "cell_type": "code",
   "execution_count": 66,
   "metadata": {
    "collapsed": false
   },
   "outputs": [
    {
     "data": {
      "text/html": [
       "<div>\n",
       "<table border=\"1\" class=\"dataframe\">\n",
       "  <thead>\n",
       "    <tr style=\"text-align: right;\">\n",
       "      <th></th>\n",
       "      <th>hm</th>\n",
       "      <th>Station Number</th>\n",
       "      <th>Year Month Day Hour Minutes in YYYY</th>\n",
       "      <th>MM</th>\n",
       "      <th>DD</th>\n",
       "      <th>HH24</th>\n",
       "      <th>MI format in Local time</th>\n",
       "      <th>Year Month Day Hour Minutes in YYYY.1</th>\n",
       "      <th>MM.1</th>\n",
       "      <th>DD.1</th>\n",
       "      <th>...</th>\n",
       "      <th>Wind direction in degrees true</th>\n",
       "      <th>Wind direction quality</th>\n",
       "      <th>Speed of maximum windgust in last 10 minutes in  km/h</th>\n",
       "      <th>Quality of speed of maximum windgust in last 10 minutes</th>\n",
       "      <th>Mean sea level pressure in hPa</th>\n",
       "      <th>Quality of mean sea level pressure</th>\n",
       "      <th>Station level pressure in hPa</th>\n",
       "      <th>Quality of station level pressure</th>\n",
       "      <th>AWS Flag</th>\n",
       "      <th>#</th>\n",
       "    </tr>\n",
       "  </thead>\n",
       "  <tbody>\n",
       "    <tr>\n",
       "      <th>0</th>\n",
       "      <td>hm</td>\n",
       "      <td>91107</td>\n",
       "      <td>2013</td>\n",
       "      <td>1</td>\n",
       "      <td>1</td>\n",
       "      <td>1</td>\n",
       "      <td>0</td>\n",
       "      <td>2013</td>\n",
       "      <td>1</td>\n",
       "      <td>1</td>\n",
       "      <td>...</td>\n",
       "      <td>280</td>\n",
       "      <td>N</td>\n",
       "      <td>28</td>\n",
       "      <td>N</td>\n",
       "      <td>1008.5</td>\n",
       "      <td>N</td>\n",
       "      <td>1007.1</td>\n",
       "      <td>N</td>\n",
       "      <td>1</td>\n",
       "      <td>#</td>\n",
       "    </tr>\n",
       "    <tr>\n",
       "      <th>1</th>\n",
       "      <td>hm</td>\n",
       "      <td>91107</td>\n",
       "      <td>2013</td>\n",
       "      <td>1</td>\n",
       "      <td>1</td>\n",
       "      <td>2</td>\n",
       "      <td>0</td>\n",
       "      <td>2013</td>\n",
       "      <td>1</td>\n",
       "      <td>1</td>\n",
       "      <td>...</td>\n",
       "      <td>290</td>\n",
       "      <td>N</td>\n",
       "      <td>26</td>\n",
       "      <td>N</td>\n",
       "      <td>1008.1</td>\n",
       "      <td>N</td>\n",
       "      <td>1006.7</td>\n",
       "      <td>N</td>\n",
       "      <td>1</td>\n",
       "      <td>#</td>\n",
       "    </tr>\n",
       "    <tr>\n",
       "      <th>2</th>\n",
       "      <td>hm</td>\n",
       "      <td>91107</td>\n",
       "      <td>2013</td>\n",
       "      <td>1</td>\n",
       "      <td>1</td>\n",
       "      <td>3</td>\n",
       "      <td>0</td>\n",
       "      <td>2013</td>\n",
       "      <td>1</td>\n",
       "      <td>1</td>\n",
       "      <td>...</td>\n",
       "      <td>280</td>\n",
       "      <td>N</td>\n",
       "      <td>26</td>\n",
       "      <td>N</td>\n",
       "      <td>1007.2</td>\n",
       "      <td>N</td>\n",
       "      <td>1005.8</td>\n",
       "      <td>N</td>\n",
       "      <td>1</td>\n",
       "      <td>#</td>\n",
       "    </tr>\n",
       "  </tbody>\n",
       "</table>\n",
       "<p>3 rows × 39 columns</p>\n",
       "</div>"
      ],
      "text/plain": [
       "   hm  Station Number  Year Month Day Hour Minutes in YYYY  MM  DD  HH24  \\\n",
       "0  hm           91107                                 2013   1   1     1   \n",
       "1  hm           91107                                 2013   1   1     2   \n",
       "2  hm           91107                                 2013   1   1     3   \n",
       "\n",
       "   MI format in Local time  Year Month Day Hour Minutes in YYYY.1  MM.1  DD.1  \\\n",
       "0                        0                                   2013     1     1   \n",
       "1                        0                                   2013     1     1   \n",
       "2                        0                                   2013     1     1   \n",
       "\n",
       "  ...  Wind direction in degrees true  Wind direction quality  \\\n",
       "0 ...                             280                       N   \n",
       "1 ...                             290                       N   \n",
       "2 ...                             280                       N   \n",
       "\n",
       "  Speed of maximum windgust in last 10 minutes in  km/h  \\\n",
       "0                                                 28      \n",
       "1                                                 26      \n",
       "2                                                 26      \n",
       "\n",
       "  Quality of speed of maximum windgust in last 10 minutes  \\\n",
       "0                                                  N        \n",
       "1                                                  N        \n",
       "2                                                  N        \n",
       "\n",
       "  Mean sea level pressure in hPa Quality of mean sea level pressure  \\\n",
       "0                         1008.5                                  N   \n",
       "1                         1008.1                                  N   \n",
       "2                         1007.2                                  N   \n",
       "\n",
       "  Station level pressure in hPa Quality of station level pressure AWS Flag  #  \n",
       "0                        1007.1                                 N        1  #  \n",
       "1                        1006.7                                 N        1  #  \n",
       "2                        1005.8                                 N        1  #  \n",
       "\n",
       "[3 rows x 39 columns]"
      ]
     },
     "execution_count": 66,
     "metadata": {},
     "output_type": "execute_result"
    }
   ],
   "source": [
    "df.head(3)"
   ]
  },
  {
   "cell_type": "code",
   "execution_count": 67,
   "metadata": {
    "collapsed": false
   },
   "outputs": [],
   "source": [
    "# class datetime.datetime(year, month, day[, hour[, minute[, second[, microsecond[, tzinfo]]]]])¶\n",
    "\n",
    "# df['new_col'] = datetime.datetime(df['Year Month Day Hour Minutes in YYYY'],df['MM'],df['DD'],df['HH24'])\n",
    "# df['new_col'] = datetime.datetime(str(df['Year Month Day Hour Minutes in YYYY']),str(df['MM']),str(df['DD']),str(df['HH24']))"
   ]
  },
  {
   "cell_type": "code",
   "execution_count": 68,
   "metadata": {
    "collapsed": true
   },
   "outputs": [],
   "source": [
    "# hour_mat = df['HH24'].as_matrix()\n",
    "# day_mat = df['DD'].as_matrix()\n",
    "# month_mat = df['MM'].as_matrix()\n",
    "# year_mat = df['Year Month Day Hour Minutes in YYYY'].as_matrix()"
   ]
  },
  {
   "cell_type": "code",
   "execution_count": 69,
   "metadata": {
    "collapsed": false
   },
   "outputs": [],
   "source": [
    "# df['new_col'] = datetime.datetime(df['Year Month Day Hour Minutes in YYYY'].as_matrix(),df['MM'].as_matrix(),df['DD'].as_matrix(),df['HH24'].as_matrix())\n",
    "# df['new_col'] = datetime.datetime(year_mat,month_mat,day_mat,hour_mat)\n"
   ]
  },
  {
   "cell_type": "code",
   "execution_count": 70,
   "metadata": {
    "collapsed": false
   },
   "outputs": [],
   "source": [
    "# df['Datetime'] = df.apply(lambda row: datetime.datetime(row['Year'], row['Month'], row['Day']), axis=1)\n",
    "df['LocalDateTime_mmddyyyy'] = df.apply(lambda row: datetime.datetime(row['Year Month Day Hour Minutes in YYYY'], row['MM'], row['DD'], row['HH24']), axis=1)"
   ]
  },
  {
   "cell_type": "code",
   "execution_count": 71,
   "metadata": {
    "collapsed": true
   },
   "outputs": [],
   "source": [
    "df.to_csv('delete.csv')"
   ]
  },
  {
   "cell_type": "code",
   "execution_count": null,
   "metadata": {
    "collapsed": true
   },
   "outputs": [],
   "source": []
  }
 ],
 "metadata": {
  "anaconda-cloud": {},
  "kernelspec": {
   "display_name": "Python [conda env:sequential_regression]",
   "language": "python",
   "name": "conda-env-sequential_regression-py"
  },
  "language_info": {
   "codemirror_mode": {
    "name": "ipython",
    "version": 2
   },
   "file_extension": ".py",
   "mimetype": "text/x-python",
   "name": "python",
   "nbconvert_exporter": "python",
   "pygments_lexer": "ipython2",
   "version": "2.7.13"
  }
 },
 "nbformat": 4,
 "nbformat_minor": 1
}
