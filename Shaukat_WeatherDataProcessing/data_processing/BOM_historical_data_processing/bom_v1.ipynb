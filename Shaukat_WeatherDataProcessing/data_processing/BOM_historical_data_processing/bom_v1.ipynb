{
 "cells": [
  {
   "cell_type": "code",
   "execution_count": null,
   "metadata": {
    "collapsed": true
   },
   "outputs": [],
   "source": [
    "import pandas as pd\n",
    "import numpy as np\n",
    "\n",
    "df = pd.read_csv(\"C:/Shaukat/code/data_rep/bom/historical_data/2013-2016/TAS/HM01X_Data_091107_999999999405613.txt\")"
   ]
  },
  {
   "cell_type": "code",
   "execution_count": null,
   "metadata": {
    "collapsed": false
   },
   "outputs": [],
   "source": [
    "# df.to_csv('trial.csv')"
   ]
  },
  {
   "cell_type": "code",
   "execution_count": null,
   "metadata": {
    "collapsed": false
   },
   "outputs": [],
   "source": [
    "df['Precipitation since 9am local time in mm'] =  pd.to_numeric(df['Precipitation since 9am local time in mm'], errors='coerce')\n",
    "df['precp_p1'] = df['Precipitation since 9am local time in mm'].shift(1)\n",
    "df['rainfall_since_last_hour'] = df['Precipitation since 9am local time in mm'] - df['precp_p1']\n",
    "df.loc[df['rainfall_since_last_hour'] < 0, 'rainfall_since_last_hour'] = 0 \n"
   ]
  },
  {
   "cell_type": "code",
   "execution_count": null,
   "metadata": {
    "collapsed": false
   },
   "outputs": [],
   "source": [
    "df.to_csv('trial_for_rainfall_.csv')"
   ]
  },
  {
   "cell_type": "code",
   "execution_count": null,
   "metadata": {
    "collapsed": false
   },
   "outputs": [],
   "source": [
    "df.rainfall_since_last_hour"
   ]
  },
  {
   "cell_type": "code",
   "execution_count": null,
   "metadata": {
    "collapsed": false
   },
   "outputs": [],
   "source": [
    "df = pd.concat([df_aug,df_sep,df_oct,df_nov], axis=0)\n",
    "df.reset_index(inplace=True)\n",
    "\n",
    "# set UTC time as the index of df \n",
    "df.UtcTime = pd.to_datetime(df.UtcTime)\n",
    "df.set_index('UtcTime', inplace=True)"
   ]
  }
 ],
 "metadata": {
  "anaconda-cloud": {},
  "kernelspec": {
   "display_name": "Python [conda env:sequential_regression]",
   "language": "python",
   "name": "conda-env-sequential_regression-py"
  },
  "language_info": {
   "codemirror_mode": {
    "name": "ipython",
    "version": 2
   },
   "file_extension": ".py",
   "mimetype": "text/x-python",
   "name": "python",
   "nbconvert_exporter": "python",
   "pygments_lexer": "ipython2",
   "version": "2.7.13"
  }
 },
 "nbformat": 4,
 "nbformat_minor": 1
}
