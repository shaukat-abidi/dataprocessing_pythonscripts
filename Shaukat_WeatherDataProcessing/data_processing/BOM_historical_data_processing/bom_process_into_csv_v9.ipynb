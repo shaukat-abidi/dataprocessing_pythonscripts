{
 "cells": [
  {
   "cell_type": "code",
   "execution_count": 1,
   "metadata": {
    "collapsed": true
   },
   "outputs": [],
   "source": [
    "import pandas as pd\n",
    "import numpy as np\n",
    "import pytz \n",
    "import datetime\n",
    "\n",
    "# def convert_to_utc(time_zone_string, naive_datetime, is_dst_bool=None):\n",
    "#     # print is_dst_bool\n",
    "#     local_timezone = pytz.timezone(time_zone_string)\n",
    "#     local_dt = local_timezone.localize(naive_datetime, is_dst=is_dst_bool)\n",
    "#     utc_dt = local_dt.astimezone(pytz.utc)\n",
    "#     return utc_dt\n",
    "\n",
    "# def convert_to_local(time_zone_string, naive_datetime, is_dst_bool=None):\n",
    "#     # print is_dst_bool\n",
    "#     local_timezone = pytz.timezone(time_zone_string)\n",
    "#     local_dt = local_timezone.localize(naive_datetime, is_dst=is_dst_bool)\n",
    "#     # utc_dt = local_dt.astimezone(pytz.utc)\n",
    "#     return local_dt\n",
    "\n",
    "def convert_to_local_timestamp(time_zone_string, naive_timestamp, is_dst_bool=None):\n",
    "    # print is_dst_bool\n",
    "    local_timezone = pytz.timezone(time_zone_string)\n",
    "    naive_datetime = datetime.datetime(naive_timestamp.year,naive_timestamp.month,naive_timestamp.day,naive_timestamp.hour,naive_timestamp.minute,naive_timestamp.second)\n",
    "    local_dt = local_timezone.localize(naive_datetime, is_dst=is_dst_bool)\n",
    "    # utc_dt = local_dt.astimezone(pytz.utc)\n",
    "    return local_dt\n",
    "\n",
    "def convert_to_utc_timestamp(time_zone_string, naive_timestamp, is_dst_bool=None):\n",
    "    # print is_dst_bool\n",
    "    local_timezone = pytz.timezone(time_zone_string)\n",
    "    naive_datetime = datetime.datetime(naive_timestamp.year,naive_timestamp.month,naive_timestamp.day,naive_timestamp.hour,naive_timestamp.minute,naive_timestamp.second)\n",
    "    local_dt = local_timezone.localize(naive_datetime, is_dst=is_dst_bool)\n",
    "    utc_dt = local_dt.astimezone(pytz.utc)\n",
    "    return utc_dt"
   ]
  },
  {
   "cell_type": "code",
   "execution_count": 2,
   "metadata": {
    "collapsed": false
   },
   "outputs": [],
   "source": [
    "base_path='C:/Shaukat/code/data_rep/bom/historical_data/2013-2016/TAS/'\n",
    "filename='HM01X_Data_094029_999999999405613'\n",
    "ext='.txt'\n",
    "path_to_file=base_path+filename+ext\n",
    "df = pd.read_csv(path_to_file)\n",
    "\n"
   ]
  },
  {
   "cell_type": "code",
   "execution_count": null,
   "metadata": {
    "collapsed": false
   },
   "outputs": [],
   "source": []
  },
  {
   "cell_type": "code",
   "execution_count": 3,
   "metadata": {
    "collapsed": false
   },
   "outputs": [],
   "source": [
    "# df.to_csv('Data_091107.csv')"
   ]
  },
  {
   "cell_type": "code",
   "execution_count": 4,
   "metadata": {
    "collapsed": false
   },
   "outputs": [],
   "source": [
    "# ADD UTC and Local Time\n",
    "timezone_string='Australia/Hobart'\n",
    "df['naive_mmddyyyy'] = df.apply(lambda row: datetime.datetime(row['Year Month Day Hour Minutes in YYYY'], row['MM'], row['DD'], row['HH24'],0,0), axis=1)\n",
    "df['local_mmddyyyy'] = df['naive_mmddyyyy'].apply(lambda row: convert_to_local_timestamp(timezone_string, row, True))\n",
    "df['utc_mmddyyyy'] = df['local_mmddyyyy'].apply(lambda row: convert_to_utc_timestamp(timezone_string, row, True))\n"
   ]
  },
  {
   "cell_type": "code",
   "execution_count": 5,
   "metadata": {
    "collapsed": false
   },
   "outputs": [],
   "source": [
    "# ADD Rainfall accumulation\n",
    "\n",
    "# Converting columns into float\n",
    "df['Precipitation since 9am local time in mm'] =  pd.to_numeric(df['Precipitation since 9am local time in mm'], errors='coerce')\n",
    "\n",
    "# Appending past values in a separate column\n",
    "df['precipitaion_lasthour'] = df['Precipitation since 9am local time in mm'].shift(1)\n",
    "# Calculating rainfall since last hour\n",
    "df['rainfall_since_last_hour'] = df['Precipitation since 9am local time in mm'] - df['precipitaion_lasthour']\n",
    "\n",
    "# Modifying all negative values in a column by 0 (This shows that rainfall next hour is either taken from other station\n",
    "# or the value is reset at 00:00)\n",
    "df.loc[df['rainfall_since_last_hour'] < 0, 'rainfall_since_last_hour'] = 0.0 \n",
    "\n"
   ]
  },
  {
   "cell_type": "code",
   "execution_count": 6,
   "metadata": {
    "collapsed": true
   },
   "outputs": [],
   "source": [
    "del base_path, path_to_file\n",
    "base_path='C:/Shaukat/code/data_rep/bom/historical_data/2013-2016/TAS/csv/'\n",
    "path_to_file=base_path+filename+'.csv'\n",
    "df.to_csv(path_to_file)"
   ]
  },
  {
   "cell_type": "code",
   "execution_count": null,
   "metadata": {
    "collapsed": false
   },
   "outputs": [],
   "source": []
  },
  {
   "cell_type": "code",
   "execution_count": null,
   "metadata": {
    "collapsed": false
   },
   "outputs": [],
   "source": []
  },
  {
   "cell_type": "code",
   "execution_count": null,
   "metadata": {
    "collapsed": false
   },
   "outputs": [],
   "source": [
    "\n"
   ]
  },
  {
   "cell_type": "code",
   "execution_count": null,
   "metadata": {
    "collapsed": true
   },
   "outputs": [],
   "source": []
  }
 ],
 "metadata": {
  "anaconda-cloud": {},
  "kernelspec": {
   "display_name": "Python [conda env:sequential_regression]",
   "language": "python",
   "name": "conda-env-sequential_regression-py"
  },
  "language_info": {
   "codemirror_mode": {
    "name": "ipython",
    "version": 2
   },
   "file_extension": ".py",
   "mimetype": "text/x-python",
   "name": "python",
   "nbconvert_exporter": "python",
   "pygments_lexer": "ipython2",
   "version": "2.7.13"
  }
 },
 "nbformat": 4,
 "nbformat_minor": 1
}
