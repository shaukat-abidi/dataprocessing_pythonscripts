{
 "cells": [
  {
   "cell_type": "code",
   "execution_count": 36,
   "metadata": {
    "collapsed": true
   },
   "outputs": [],
   "source": [
    "import numpy as np\n",
    "import netCDF4\n",
    "import matplotlib.pyplot as plt\n",
    "import datetime as dt\n",
    "import pandas as pd\n",
    "import os\n",
    "\n",
    "%matplotlib inline\n"
   ]
  },
  {
   "cell_type": "code",
   "execution_count": 37,
   "metadata": {
    "collapsed": true
   },
   "outputs": [],
   "source": [
    "def l2_norm_of_difference(vec_a, vec_b):\n",
    "    return np.linalg.norm(vec_a - vec_b)"
   ]
  },
  {
   "cell_type": "code",
   "execution_count": 38,
   "metadata": {
    "collapsed": true
   },
   "outputs": [],
   "source": [
    "def get_lat_lon_not_to_use_this(lat_0_array, lon_0_array, target_lat, target_lon):\n",
    "    idx_lat = 55555\n",
    "    idx_lon = 55555\n",
    "\n",
    "    \n",
    "    # Making sure we are passing correct ranges of lat and lon\n",
    "    if ( (target_lat <= -10.0 and target_lat >= -44.0) and (target_lon <= 154.0 and target_lon >= 112.0) ):\n",
    "        idx_lat = np.argmin(np.abs(lat_0_array - target_lat))\n",
    "        idx_lon = np.argmin(np.abs(lon_0_array - target_lon))\n",
    "        \n",
    "        print 'idx_lat: ', idx_lat, 'value in NetCDF: ', lat_0_array[idx_lat], 'given lat: ', target_lat\n",
    "        print 'idx_lon: ', idx_lon, 'value in NetCDF: ', lon_0_array[idx_lon], 'given lon: ', target_lon\n",
    "    \n",
    "    return idx_lat,idx_lon"
   ]
  },
  {
   "cell_type": "code",
   "execution_count": 39,
   "metadata": {
    "collapsed": true
   },
   "outputs": [],
   "source": [
    "def get_lat_lon(lat_0_array, lon_0_array, target_lat, target_lon):\n",
    "    # initialize variables\n",
    "    idx_lat = 55555\n",
    "    idx_lon = 55555\n",
    "    val_lat = 0.0\n",
    "    val_lon = 0.0\n",
    "    lat_lon_vec = np.array([0.0,0.0])\n",
    "    start = True\n",
    "    least_norm = 0.0\n",
    "    \n",
    "    # Making sure we are passing correct ranges of lat and lon\n",
    "    if ( (target_lat <= -10.0 and target_lat >= -44.0) and (target_lon <= 154.0 and target_lon >= 112.0) ):\n",
    "        target_lat_lon_vec = np.array([target_lat, target_lon])\n",
    "        \n",
    "        # Going for very quick implementation (NOT OPTIMIZED/ Slow)\n",
    "        for _lat in range(0,len(lat_0_array)):\n",
    "            for _lon in range(0,len(lon_0_array)):\n",
    "                # print 'idx: ', _lat, 'val: ', lat_0_array[_lat]\n",
    "                # print 'idx: ', _lon, 'val: ', lon_0_array[_lon]\n",
    "                if(start):\n",
    "                    start = False\n",
    "                    # Prepare lat/lon vec\n",
    "                    lat_lon_vec[0] = lat_0_array[_lat]\n",
    "                    lat_lon_vec[1] = lon_0_array[_lon]\n",
    "                    \n",
    "                    # prepare vars to return with l2_distance\n",
    "                    least_norm = l2_norm_of_difference(lat_lon_vec, target_lat_lon_vec)\n",
    "                    \n",
    "                    # to return \n",
    "                    idx_lat = _lat\n",
    "                    idx_lon = _lon\n",
    "                    val_lat = lat_0_array[idx_lat]\n",
    "                    val_lon = lon_0_array[idx_lon]\n",
    "                    \n",
    "                    print 'Start--', 'idx_lat: ', idx_lat, 'NetCDF lat: ', val_lat, 'target lat: ', target_lat\n",
    "                    print 'idx_lon: ', idx_lon, 'NetCDF lon: ', val_lon, 'given lon: ', target_lon\n",
    "                    print 'norm: ', least_norm\n",
    "                    print '\\n'\n",
    "                    \n",
    "                else:\n",
    "                    # Prepare lat/lon vec\n",
    "                    lat_lon_vec[0] = lat_0_array[_lat]\n",
    "                    lat_lon_vec[1] = lon_0_array[_lon]\n",
    "                    \n",
    "                    # prepare vars to return with l2_distance\n",
    "                    l2_norm = l2_norm_of_difference(lat_lon_vec, target_lat_lon_vec)\n",
    "                    \n",
    "                    if(l2_norm < least_norm):\n",
    "                        least_norm = l2_norm\n",
    "                        # to return\n",
    "                        idx_lat = _lat\n",
    "                        idx_lon = _lon\n",
    "                        val_lat = lat_0_array[idx_lat]\n",
    "                        val_lon = lon_0_array[idx_lon]\n",
    "        \n",
    "        \n",
    "    \n",
    "    print 'End--', 'idx_lat: ', idx_lat, 'NetCDF lat: ', val_lat, 'target lat: ', target_lat\n",
    "    print 'idx_lon: ', idx_lon, 'NetCDF lon: ', val_lon, 'given lon: ', target_lon\n",
    "    print 'norm: ', least_norm\n",
    "    print '\\n'\n",
    "                    \n",
    "    return idx_lat, idx_lon, val_lat, val_lon  \n"
   ]
  },
  {
   "cell_type": "code",
   "execution_count": 40,
   "metadata": {
    "collapsed": false
   },
   "outputs": [
    {
     "name": "stdout",
     "output_type": "stream",
     "text": [
      "Start-- idx_lat:  0 NetCDF lat:  -10.0 target lat:  -42.8897\n",
      "idx_lon:  0 NetCDF lon:  112.0 given lon:  147.3278\n",
      "norm:  48.2678549236\n",
      "\n",
      "\n",
      "End-- idx_lat:  132 NetCDF lat:  -43.0 target lat:  -42.8897\n",
      "idx_lon:  141 NetCDF lon:  147.25 given lon:  147.3278\n",
      "norm:  0.134977516646\n",
      "\n",
      "\n",
      "target_lat:  -42.8897 target_lon:  147.3278\n",
      "calculated_lat:  -43.0 calculated_lon:  147.25\n"
     ]
    }
   ],
   "source": [
    "# Target lat/lon\n",
    "target_lat = -42.8897\n",
    "target_lon =  147.3278\n",
    "\n",
    "\n",
    "# Read NETCDF File \n",
    "# Check Netcdf\n",
    "data = netCDF4.Dataset('C:/Users/ShaukatAbidi/Downloads/datafiles_1600_1799/extracted_files/gfs.0p25.2015031406.f000.grib2.abrie233580.nc')\n",
    "            \n",
    "# Get lat/lon\n",
    "lat_0_array = data.variables['lat_0'][:]\n",
    "lon_0_array = data.variables['lon_0'][:]\n",
    "idx_lat,idx_lon, val_lat, val_lon = get_lat_lon(lat_0_array, lon_0_array, target_lat, target_lon)\n",
    "\n",
    "print 'target_lat: ',target_lat,'target_lon: ',target_lon \n",
    "print 'calculated_lat: ',val_lat,'calculated_lon: ',val_lon \n"
   ]
  },
  {
   "cell_type": "code",
   "execution_count": 35,
   "metadata": {
    "collapsed": false
   },
   "outputs": [
    {
     "data": {
      "text/plain": [
       "148.25"
      ]
     },
     "execution_count": 35,
     "metadata": {},
     "output_type": "execute_result"
    }
   ],
   "source": [
    "lon_0_array[idx_lon]"
   ]
  },
  {
   "cell_type": "code",
   "execution_count": 8,
   "metadata": {
    "collapsed": false
   },
   "outputs": [
    {
     "data": {
      "text/plain": [
       "(169L,)"
      ]
     },
     "execution_count": 8,
     "metadata": {},
     "output_type": "execute_result"
    }
   ],
   "source": [
    "lon_0_array.shape"
   ]
  },
  {
   "cell_type": "code",
   "execution_count": 9,
   "metadata": {
    "collapsed": false
   },
   "outputs": [
    {
     "data": {
      "text/plain": [
       "array([-10.  , -10.25, -10.5 , -10.75, -11.  , -11.25, -11.5 , -11.75,\n",
       "       -12.  , -12.25, -12.5 , -12.75, -13.  , -13.25, -13.5 , -13.75,\n",
       "       -14.  , -14.25, -14.5 , -14.75, -15.  , -15.25, -15.5 , -15.75,\n",
       "       -16.  , -16.25, -16.5 , -16.75, -17.  , -17.25, -17.5 , -17.75,\n",
       "       -18.  , -18.25, -18.5 , -18.75, -19.  , -19.25, -19.5 , -19.75,\n",
       "       -20.  , -20.25, -20.5 , -20.75, -21.  , -21.25, -21.5 , -21.75,\n",
       "       -22.  , -22.25, -22.5 , -22.75, -23.  , -23.25, -23.5 , -23.75,\n",
       "       -24.  , -24.25, -24.5 , -24.75, -25.  , -25.25, -25.5 , -25.75,\n",
       "       -26.  , -26.25, -26.5 , -26.75, -27.  , -27.25, -27.5 , -27.75,\n",
       "       -28.  , -28.25, -28.5 , -28.75, -29.  , -29.25, -29.5 , -29.75,\n",
       "       -30.  , -30.25, -30.5 , -30.75, -31.  , -31.25, -31.5 , -31.75,\n",
       "       -32.  , -32.25, -32.5 , -32.75, -33.  , -33.25, -33.5 , -33.75,\n",
       "       -34.  , -34.25, -34.5 , -34.75, -35.  , -35.25, -35.5 , -35.75,\n",
       "       -36.  , -36.25, -36.5 , -36.75, -37.  , -37.25, -37.5 , -37.75,\n",
       "       -38.  , -38.25, -38.5 , -38.75, -39.  , -39.25, -39.5 , -39.75,\n",
       "       -40.  , -40.25, -40.5 , -40.75, -41.  , -41.25, -41.5 , -41.75,\n",
       "       -42.  , -42.25, -42.5 , -42.75, -43.  , -43.25, -43.5 , -43.75, -44.  ], dtype=float32)"
      ]
     },
     "execution_count": 9,
     "metadata": {},
     "output_type": "execute_result"
    }
   ],
   "source": [
    "lat_0_array"
   ]
  },
  {
   "cell_type": "code",
   "execution_count": 10,
   "metadata": {
    "collapsed": false
   },
   "outputs": [
    {
     "data": {
      "text/plain": [
       "array([ 112.  ,  112.25,  112.5 ,  112.75,  113.  ,  113.25,  113.5 ,\n",
       "        113.75,  114.  ,  114.25,  114.5 ,  114.75,  115.  ,  115.25,\n",
       "        115.5 ,  115.75,  116.  ,  116.25,  116.5 ,  116.75,  117.  ,\n",
       "        117.25,  117.5 ,  117.75,  118.  ,  118.25,  118.5 ,  118.75,\n",
       "        119.  ,  119.25,  119.5 ,  119.75,  120.  ,  120.25,  120.5 ,\n",
       "        120.75,  121.  ,  121.25,  121.5 ,  121.75,  122.  ,  122.25,\n",
       "        122.5 ,  122.75,  123.  ,  123.25,  123.5 ,  123.75,  124.  ,\n",
       "        124.25,  124.5 ,  124.75,  125.  ,  125.25,  125.5 ,  125.75,\n",
       "        126.  ,  126.25,  126.5 ,  126.75,  127.  ,  127.25,  127.5 ,\n",
       "        127.75,  128.  ,  128.25,  128.5 ,  128.75,  129.  ,  129.25,\n",
       "        129.5 ,  129.75,  130.  ,  130.25,  130.5 ,  130.75,  131.  ,\n",
       "        131.25,  131.5 ,  131.75,  132.  ,  132.25,  132.5 ,  132.75,\n",
       "        133.  ,  133.25,  133.5 ,  133.75,  134.  ,  134.25,  134.5 ,\n",
       "        134.75,  135.  ,  135.25,  135.5 ,  135.75,  136.  ,  136.25,\n",
       "        136.5 ,  136.75,  137.  ,  137.25,  137.5 ,  137.75,  138.  ,\n",
       "        138.25,  138.5 ,  138.75,  139.  ,  139.25,  139.5 ,  139.75,\n",
       "        140.  ,  140.25,  140.5 ,  140.75,  141.  ,  141.25,  141.5 ,\n",
       "        141.75,  142.  ,  142.25,  142.5 ,  142.75,  143.  ,  143.25,\n",
       "        143.5 ,  143.75,  144.  ,  144.25,  144.5 ,  144.75,  145.  ,\n",
       "        145.25,  145.5 ,  145.75,  146.  ,  146.25,  146.5 ,  146.75,\n",
       "        147.  ,  147.25,  147.5 ,  147.75,  148.  ,  148.25,  148.5 ,\n",
       "        148.75,  149.  ,  149.25,  149.5 ,  149.75,  150.  ,  150.25,\n",
       "        150.5 ,  150.75,  151.  ,  151.25,  151.5 ,  151.75,  152.  ,\n",
       "        152.25,  152.5 ,  152.75,  153.  ,  153.25,  153.5 ,  153.75,  154.  ], dtype=float32)"
      ]
     },
     "execution_count": 10,
     "metadata": {},
     "output_type": "execute_result"
    }
   ],
   "source": [
    "lon_0_array"
   ]
  },
  {
   "cell_type": "code",
   "execution_count": 14,
   "metadata": {
    "collapsed": false
   },
   "outputs": [
    {
     "name": "stdout",
     "output_type": "stream",
     "text": [
      "idx:  0 val:  -10.0\n",
      "idx:  1 val:  -10.25\n",
      "idx:  2 val:  -10.5\n",
      "idx:  3 val:  -10.75\n",
      "idx:  4 val:  -11.0\n",
      "idx:  5 val:  -11.25\n",
      "idx:  6 val:  -11.5\n",
      "idx:  7 val:  -11.75\n",
      "idx:  8 val:  -12.0\n",
      "idx:  9 val:  -12.25\n",
      "idx:  10 val:  -12.5\n",
      "idx:  11 val:  -12.75\n",
      "idx:  12 val:  -13.0\n",
      "idx:  13 val:  -13.25\n",
      "idx:  14 val:  -13.5\n",
      "idx:  15 val:  -13.75\n",
      "idx:  16 val:  -14.0\n",
      "idx:  17 val:  -14.25\n",
      "idx:  18 val:  -14.5\n",
      "idx:  19 val:  -14.75\n",
      "idx:  20 val:  -15.0\n",
      "idx:  21 val:  -15.25\n",
      "idx:  22 val:  -15.5\n",
      "idx:  23 val:  -15.75\n",
      "idx:  24 val:  -16.0\n",
      "idx:  25 val:  -16.25\n",
      "idx:  26 val:  -16.5\n",
      "idx:  27 val:  -16.75\n",
      "idx:  28 val:  -17.0\n",
      "idx:  29 val:  -17.25\n",
      "idx:  30 val:  -17.5\n",
      "idx:  31 val:  -17.75\n",
      "idx:  32 val:  -18.0\n",
      "idx:  33 val:  -18.25\n",
      "idx:  34 val:  -18.5\n",
      "idx:  35 val:  -18.75\n",
      "idx:  36 val:  -19.0\n",
      "idx:  37 val:  -19.25\n",
      "idx:  38 val:  -19.5\n",
      "idx:  39 val:  -19.75\n",
      "idx:  40 val:  -20.0\n",
      "idx:  41 val:  -20.25\n",
      "idx:  42 val:  -20.5\n",
      "idx:  43 val:  -20.75\n",
      "idx:  44 val:  -21.0\n",
      "idx:  45 val:  -21.25\n",
      "idx:  46 val:  -21.5\n",
      "idx:  47 val:  -21.75\n",
      "idx:  48 val:  -22.0\n",
      "idx:  49 val:  -22.25\n",
      "idx:  50 val:  -22.5\n",
      "idx:  51 val:  -22.75\n",
      "idx:  52 val:  -23.0\n",
      "idx:  53 val:  -23.25\n",
      "idx:  54 val:  -23.5\n",
      "idx:  55 val:  -23.75\n",
      "idx:  56 val:  -24.0\n",
      "idx:  57 val:  -24.25\n",
      "idx:  58 val:  -24.5\n",
      "idx:  59 val:  -24.75\n",
      "idx:  60 val:  -25.0\n",
      "idx:  61 val:  -25.25\n",
      "idx:  62 val:  -25.5\n",
      "idx:  63 val:  -25.75\n",
      "idx:  64 val:  -26.0\n",
      "idx:  65 val:  -26.25\n",
      "idx:  66 val:  -26.5\n",
      "idx:  67 val:  -26.75\n",
      "idx:  68 val:  -27.0\n",
      "idx:  69 val:  -27.25\n",
      "idx:  70 val:  -27.5\n",
      "idx:  71 val:  -27.75\n",
      "idx:  72 val:  -28.0\n",
      "idx:  73 val:  -28.25\n",
      "idx:  74 val:  -28.5\n",
      "idx:  75 val:  -28.75\n",
      "idx:  76 val:  -29.0\n",
      "idx:  77 val:  -29.25\n",
      "idx:  78 val:  -29.5\n",
      "idx:  79 val:  -29.75\n",
      "idx:  80 val:  -30.0\n",
      "idx:  81 val:  -30.25\n",
      "idx:  82 val:  -30.5\n",
      "idx:  83 val:  -30.75\n",
      "idx:  84 val:  -31.0\n",
      "idx:  85 val:  -31.25\n",
      "idx:  86 val:  -31.5\n",
      "idx:  87 val:  -31.75\n",
      "idx:  88 val:  -32.0\n",
      "idx:  89 val:  -32.25\n",
      "idx:  90 val:  -32.5\n",
      "idx:  91 val:  -32.75\n",
      "idx:  92 val:  -33.0\n",
      "idx:  93 val:  -33.25\n",
      "idx:  94 val:  -33.5\n",
      "idx:  95 val:  -33.75\n",
      "idx:  96 val:  -34.0\n",
      "idx:  97 val:  -34.25\n",
      "idx:  98 val:  -34.5\n",
      "idx:  99 val:  -34.75\n",
      "idx:  100 val:  -35.0\n",
      "idx:  101 val:  -35.25\n",
      "idx:  102 val:  -35.5\n",
      "idx:  103 val:  -35.75\n",
      "idx:  104 val:  -36.0\n",
      "idx:  105 val:  -36.25\n",
      "idx:  106 val:  -36.5\n",
      "idx:  107 val:  -36.75\n",
      "idx:  108 val:  -37.0\n",
      "idx:  109 val:  -37.25\n",
      "idx:  110 val:  -37.5\n",
      "idx:  111 val:  -37.75\n",
      "idx:  112 val:  -38.0\n",
      "idx:  113 val:  -38.25\n",
      "idx:  114 val:  -38.5\n",
      "idx:  115 val:  -38.75\n",
      "idx:  116 val:  -39.0\n",
      "idx:  117 val:  -39.25\n",
      "idx:  118 val:  -39.5\n",
      "idx:  119 val:  -39.75\n",
      "idx:  120 val:  -40.0\n",
      "idx:  121 val:  -40.25\n",
      "idx:  122 val:  -40.5\n",
      "idx:  123 val:  -40.75\n",
      "idx:  124 val:  -41.0\n",
      "idx:  125 val:  -41.25\n",
      "idx:  126 val:  -41.5\n",
      "idx:  127 val:  -41.75\n",
      "idx:  128 val:  -42.0\n",
      "idx:  129 val:  -42.25\n",
      "idx:  130 val:  -42.5\n",
      "idx:  131 val:  -42.75\n",
      "idx:  132 val:  -43.0\n",
      "idx:  133 val:  -43.25\n",
      "idx:  134 val:  -43.5\n",
      "idx:  135 val:  -43.75\n",
      "idx:  136 val:  -44.0\n"
     ]
    }
   ],
   "source": [
    "for _lat in range(0,len(lat_0_array)):\n",
    "    print 'idx: ', _lat, 'val: ', lat_0_array[_lat]\n",
    "del _lat"
   ]
  },
  {
   "cell_type": "code",
   "execution_count": 15,
   "metadata": {
    "collapsed": false
   },
   "outputs": [
    {
     "name": "stdout",
     "output_type": "stream",
     "text": [
      "idx:  0 val:  112.0\n",
      "idx:  1 val:  112.25\n",
      "idx:  2 val:  112.5\n",
      "idx:  3 val:  112.75\n",
      "idx:  4 val:  113.0\n",
      "idx:  5 val:  113.25\n",
      "idx:  6 val:  113.5\n",
      "idx:  7 val:  113.75\n",
      "idx:  8 val:  114.0\n",
      "idx:  9 val:  114.25\n",
      "idx:  10 val:  114.5\n",
      "idx:  11 val:  114.75\n",
      "idx:  12 val:  115.0\n",
      "idx:  13 val:  115.25\n",
      "idx:  14 val:  115.5\n",
      "idx:  15 val:  115.75\n",
      "idx:  16 val:  116.0\n",
      "idx:  17 val:  116.25\n",
      "idx:  18 val:  116.5\n",
      "idx:  19 val:  116.75\n",
      "idx:  20 val:  117.0\n",
      "idx:  21 val:  117.25\n",
      "idx:  22 val:  117.5\n",
      "idx:  23 val:  117.75\n",
      "idx:  24 val:  118.0\n",
      "idx:  25 val:  118.25\n",
      "idx:  26 val:  118.5\n",
      "idx:  27 val:  118.75\n",
      "idx:  28 val:  119.0\n",
      "idx:  29 val:  119.25\n",
      "idx:  30 val:  119.5\n",
      "idx:  31 val:  119.75\n",
      "idx:  32 val:  120.0\n",
      "idx:  33 val:  120.25\n",
      "idx:  34 val:  120.5\n",
      "idx:  35 val:  120.75\n",
      "idx:  36 val:  121.0\n",
      "idx:  37 val:  121.25\n",
      "idx:  38 val:  121.5\n",
      "idx:  39 val:  121.75\n",
      "idx:  40 val:  122.0\n",
      "idx:  41 val:  122.25\n",
      "idx:  42 val:  122.5\n",
      "idx:  43 val:  122.75\n",
      "idx:  44 val:  123.0\n",
      "idx:  45 val:  123.25\n",
      "idx:  46 val:  123.5\n",
      "idx:  47 val:  123.75\n",
      "idx:  48 val:  124.0\n",
      "idx:  49 val:  124.25\n",
      "idx:  50 val:  124.5\n",
      "idx:  51 val:  124.75\n",
      "idx:  52 val:  125.0\n",
      "idx:  53 val:  125.25\n",
      "idx:  54 val:  125.5\n",
      "idx:  55 val:  125.75\n",
      "idx:  56 val:  126.0\n",
      "idx:  57 val:  126.25\n",
      "idx:  58 val:  126.5\n",
      "idx:  59 val:  126.75\n",
      "idx:  60 val:  127.0\n",
      "idx:  61 val:  127.25\n",
      "idx:  62 val:  127.5\n",
      "idx:  63 val:  127.75\n",
      "idx:  64 val:  128.0\n",
      "idx:  65 val:  128.25\n",
      "idx:  66 val:  128.5\n",
      "idx:  67 val:  128.75\n",
      "idx:  68 val:  129.0\n",
      "idx:  69 val:  129.25\n",
      "idx:  70 val:  129.5\n",
      "idx:  71 val:  129.75\n",
      "idx:  72 val:  130.0\n",
      "idx:  73 val:  130.25\n",
      "idx:  74 val:  130.5\n",
      "idx:  75 val:  130.75\n",
      "idx:  76 val:  131.0\n",
      "idx:  77 val:  131.25\n",
      "idx:  78 val:  131.5\n",
      "idx:  79 val:  131.75\n",
      "idx:  80 val:  132.0\n",
      "idx:  81 val:  132.25\n",
      "idx:  82 val:  132.5\n",
      "idx:  83 val:  132.75\n",
      "idx:  84 val:  133.0\n",
      "idx:  85 val:  133.25\n",
      "idx:  86 val:  133.5\n",
      "idx:  87 val:  133.75\n",
      "idx:  88 val:  134.0\n",
      "idx:  89 val:  134.25\n",
      "idx:  90 val:  134.5\n",
      "idx:  91 val:  134.75\n",
      "idx:  92 val:  135.0\n",
      "idx:  93 val:  135.25\n",
      "idx:  94 val:  135.5\n",
      "idx:  95 val:  135.75\n",
      "idx:  96 val:  136.0\n",
      "idx:  97 val:  136.25\n",
      "idx:  98 val:  136.5\n",
      "idx:  99 val:  136.75\n",
      "idx:  100 val:  137.0\n",
      "idx:  101 val:  137.25\n",
      "idx:  102 val:  137.5\n",
      "idx:  103 val:  137.75\n",
      "idx:  104 val:  138.0\n",
      "idx:  105 val:  138.25\n",
      "idx:  106 val:  138.5\n",
      "idx:  107 val:  138.75\n",
      "idx:  108 val:  139.0\n",
      "idx:  109 val:  139.25\n",
      "idx:  110 val:  139.5\n",
      "idx:  111 val:  139.75\n",
      "idx:  112 val:  140.0\n",
      "idx:  113 val:  140.25\n",
      "idx:  114 val:  140.5\n",
      "idx:  115 val:  140.75\n",
      "idx:  116 val:  141.0\n",
      "idx:  117 val:  141.25\n",
      "idx:  118 val:  141.5\n",
      "idx:  119 val:  141.75\n",
      "idx:  120 val:  142.0\n",
      "idx:  121 val:  142.25\n",
      "idx:  122 val:  142.5\n",
      "idx:  123 val:  142.75\n",
      "idx:  124 val:  143.0\n",
      "idx:  125 val:  143.25\n",
      "idx:  126 val:  143.5\n",
      "idx:  127 val:  143.75\n",
      "idx:  128 val:  144.0\n",
      "idx:  129 val:  144.25\n",
      "idx:  130 val:  144.5\n",
      "idx:  131 val:  144.75\n",
      "idx:  132 val:  145.0\n",
      "idx:  133 val:  145.25\n",
      "idx:  134 val:  145.5\n",
      "idx:  135 val:  145.75\n",
      "idx:  136 val:  146.0\n",
      "idx:  137 val:  146.25\n",
      "idx:  138 val:  146.5\n",
      "idx:  139 val:  146.75\n",
      "idx:  140 val:  147.0\n",
      "idx:  141 val:  147.25\n",
      "idx:  142 val:  147.5\n",
      "idx:  143 val:  147.75\n",
      "idx:  144 val:  148.0\n",
      "idx:  145 val:  148.25\n",
      "idx:  146 val:  148.5\n",
      "idx:  147 val:  148.75\n",
      "idx:  148 val:  149.0\n",
      "idx:  149 val:  149.25\n",
      "idx:  150 val:  149.5\n",
      "idx:  151 val:  149.75\n",
      "idx:  152 val:  150.0\n",
      "idx:  153 val:  150.25\n",
      "idx:  154 val:  150.5\n",
      "idx:  155 val:  150.75\n",
      "idx:  156 val:  151.0\n",
      "idx:  157 val:  151.25\n",
      "idx:  158 val:  151.5\n",
      "idx:  159 val:  151.75\n",
      "idx:  160 val:  152.0\n",
      "idx:  161 val:  152.25\n",
      "idx:  162 val:  152.5\n",
      "idx:  163 val:  152.75\n",
      "idx:  164 val:  153.0\n",
      "idx:  165 val:  153.25\n",
      "idx:  166 val:  153.5\n",
      "idx:  167 val:  153.75\n",
      "idx:  168 val:  154.0\n"
     ]
    }
   ],
   "source": [
    "for _lon in range(0,len(lon_0_array)):\n",
    "    print 'idx: ', _lon, 'val: ', lon_0_array[_lon]"
   ]
  },
  {
   "cell_type": "code",
   "execution_count": 24,
   "metadata": {
    "collapsed": false
   },
   "outputs": [
    {
     "name": "stdout",
     "output_type": "stream",
     "text": [
      "[1 2] [ -41.26101779  148.166736  ] [  42.26101779 -146.166736  ] 152.153568271\n"
     ]
    }
   ],
   "source": [
    "lat_lon_vec = np.array([1,2])\n",
    "target_lat_lon_vec = np.array([target_lat, target_lon])\n",
    "print lat_lon_vec, lat_lon_target_vec, lat_lon_vec-target_lat_lon_vec, l2_norm_of_difference(lat_lon_vec, target_lat_lon_vec)"
   ]
  },
  {
   "cell_type": "code",
   "execution_count": 26,
   "metadata": {
    "collapsed": false
   },
   "outputs": [
    {
     "data": {
      "text/plain": [
       "array([1, 2])"
      ]
     },
     "execution_count": 26,
     "metadata": {},
     "output_type": "execute_result"
    }
   ],
   "source": [
    "lat_lon_vec"
   ]
  },
  {
   "cell_type": "code",
   "execution_count": 27,
   "metadata": {
    "collapsed": false
   },
   "outputs": [
    {
     "data": {
      "text/plain": [
       "array([-5,  2])"
      ]
     },
     "execution_count": 27,
     "metadata": {},
     "output_type": "execute_result"
    }
   ],
   "source": [
    "lat_lon_vec[0] = -5\n",
    "lat_lon_vec"
   ]
  },
  {
   "cell_type": "code",
   "execution_count": null,
   "metadata": {
    "collapsed": true
   },
   "outputs": [],
   "source": []
  }
 ],
 "metadata": {
  "anaconda-cloud": {},
  "kernelspec": {
   "display_name": "Python [conda env:sequential_regression]",
   "language": "python",
   "name": "conda-env-sequential_regression-py"
  },
  "language_info": {
   "codemirror_mode": {
    "name": "ipython",
    "version": 2
   },
   "file_extension": ".py",
   "mimetype": "text/x-python",
   "name": "python",
   "nbconvert_exporter": "python",
   "pygments_lexer": "ipython2",
   "version": "2.7.13"
  }
 },
 "nbformat": 4,
 "nbformat_minor": 0
}
