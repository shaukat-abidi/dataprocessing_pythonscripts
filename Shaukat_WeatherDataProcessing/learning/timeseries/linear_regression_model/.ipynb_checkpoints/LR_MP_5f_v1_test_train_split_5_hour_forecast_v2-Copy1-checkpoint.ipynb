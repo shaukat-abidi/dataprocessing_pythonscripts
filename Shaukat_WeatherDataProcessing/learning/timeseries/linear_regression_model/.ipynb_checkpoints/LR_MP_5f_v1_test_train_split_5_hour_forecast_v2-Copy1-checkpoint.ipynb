{
 "cells": [
  {
   "cell_type": "code",
   "execution_count": 1,
   "metadata": {
    "collapsed": true
   },
   "outputs": [],
   "source": [
    "import pandas as pd\n",
    "import numpy as np\n",
    "import matplotlib.pyplot as plt\n",
    "from sklearn import linear_model\n",
    "from sklearn import preprocessing\n",
    "from sklearn.preprocessing import PolynomialFeatures\n",
    "import scipy.stats as stats\n",
    "%matplotlib inline"
   ]
  },
  {
   "cell_type": "code",
   "execution_count": 2,
   "metadata": {
    "collapsed": true
   },
   "outputs": [],
   "source": [
    "def sum_of_square(vec_a, vec_b):\n",
    "    diff = vec_a - vec_b\n",
    "    diff_squared = np.square(diff)\n",
    "    return (np.sum(diff_squared))"
   ]
  },
  {
   "cell_type": "code",
   "execution_count": 3,
   "metadata": {
    "collapsed": false
   },
   "outputs": [],
   "source": [
    "df = pd.read_csv(\"C:\\\\Users\\\\ShaukatAbidi\\\\Documents\\\\shaukat_python_progs\\\\eto_experiment\\\\data_eto\\\\data_respository\\\\July2016_sorted_station_timeind.csv\")"
   ]
  },
  {
   "cell_type": "code",
   "execution_count": 4,
   "metadata": {
    "collapsed": false
   },
   "outputs": [
    {
     "data": {
      "text/plain": [
       "Index(['ObservationId', 'Timestamp', 'ParentLocationId', 'RelatedLocationId',\n",
       "       'ReadingId', 'UtcTime', 'LocalTime', 'TimeZone', 'Temperature',\n",
       "       'FeelsLike', 'DewPoint', 'RelativeHumidity', 'WindDirection',\n",
       "       'WindDirectionCompass', 'WindSpeed', 'WindGust', 'RainSince9am',\n",
       "       'Pressure', 'RainfallLastHour', 'RainfallLast10Minutes', 'time_index'],\n",
       "      dtype='object')"
      ]
     },
     "execution_count": 4,
     "metadata": {},
     "output_type": "execute_result"
    }
   ],
   "source": [
    "# df\n",
    "# print(linear_model.LinearRegression.__doc__)\n",
    "df.keys()"
   ]
  },
  {
   "cell_type": "code",
   "execution_count": 5,
   "metadata": {
    "collapsed": false
   },
   "outputs": [
    {
     "data": {
      "text/html": [
       "<div>\n",
       "<table border=\"1\" class=\"dataframe\">\n",
       "  <thead>\n",
       "    <tr style=\"text-align: right;\">\n",
       "      <th></th>\n",
       "      <th>ObservationId</th>\n",
       "      <th>Timestamp</th>\n",
       "      <th>ParentLocationId</th>\n",
       "      <th>RelatedLocationId</th>\n",
       "      <th>ReadingId</th>\n",
       "      <th>UtcTime</th>\n",
       "      <th>LocalTime</th>\n",
       "      <th>TimeZone</th>\n",
       "      <th>Temperature</th>\n",
       "      <th>FeelsLike</th>\n",
       "      <th>...</th>\n",
       "      <th>RainSince9am</th>\n",
       "      <th>Pressure</th>\n",
       "      <th>RainfallLastHour</th>\n",
       "      <th>RainfallLast10Minutes</th>\n",
       "      <th>time_index</th>\n",
       "      <th>y_t_1</th>\n",
       "      <th>y_t_2</th>\n",
       "      <th>y_t_3</th>\n",
       "      <th>y_t_4</th>\n",
       "      <th>y_t_5</th>\n",
       "    </tr>\n",
       "  </thead>\n",
       "  <tbody>\n",
       "    <tr>\n",
       "      <th>0</th>\n",
       "      <td>60</td>\n",
       "      <td>1467295200</td>\n",
       "      <td>1</td>\n",
       "      <td>94008</td>\n",
       "      <td>21</td>\n",
       "      <td>7/1/2016 0:00</td>\n",
       "      <td>7/1/2016 0:00</td>\n",
       "      <td>Australia/Hobart</td>\n",
       "      <td>8.8</td>\n",
       "      <td>6.7</td>\n",
       "      <td>...</td>\n",
       "      <td>0.0</td>\n",
       "      <td>1011</td>\n",
       "      <td>0.0</td>\n",
       "      <td>0.0</td>\n",
       "      <td>0.000000</td>\n",
       "      <td>11.0</td>\n",
       "      <td>11.7</td>\n",
       "      <td>12.6</td>\n",
       "      <td>12.5</td>\n",
       "      <td>11.8</td>\n",
       "    </tr>\n",
       "    <tr>\n",
       "      <th>1</th>\n",
       "      <td>59</td>\n",
       "      <td>1467298800</td>\n",
       "      <td>1</td>\n",
       "      <td>94008</td>\n",
       "      <td>21</td>\n",
       "      <td>7/1/2016 1:00</td>\n",
       "      <td>7/1/2016 1:00</td>\n",
       "      <td>Australia/Hobart</td>\n",
       "      <td>11.0</td>\n",
       "      <td>8.6</td>\n",
       "      <td>...</td>\n",
       "      <td>0.0</td>\n",
       "      <td>1012</td>\n",
       "      <td>0.0</td>\n",
       "      <td>0.0</td>\n",
       "      <td>0.041667</td>\n",
       "      <td>11.7</td>\n",
       "      <td>12.6</td>\n",
       "      <td>12.5</td>\n",
       "      <td>11.8</td>\n",
       "      <td>11.2</td>\n",
       "    </tr>\n",
       "    <tr>\n",
       "      <th>2</th>\n",
       "      <td>64</td>\n",
       "      <td>1467302400</td>\n",
       "      <td>1</td>\n",
       "      <td>94008</td>\n",
       "      <td>22</td>\n",
       "      <td>7/1/2016 2:00</td>\n",
       "      <td>7/1/2016 2:00</td>\n",
       "      <td>Australia/Hobart</td>\n",
       "      <td>11.7</td>\n",
       "      <td>9.2</td>\n",
       "      <td>...</td>\n",
       "      <td>0.0</td>\n",
       "      <td>1012</td>\n",
       "      <td>0.0</td>\n",
       "      <td>0.0</td>\n",
       "      <td>0.083333</td>\n",
       "      <td>12.6</td>\n",
       "      <td>12.5</td>\n",
       "      <td>11.8</td>\n",
       "      <td>11.2</td>\n",
       "      <td>10.8</td>\n",
       "    </tr>\n",
       "    <tr>\n",
       "      <th>3</th>\n",
       "      <td>63</td>\n",
       "      <td>1467306000</td>\n",
       "      <td>1</td>\n",
       "      <td>94008</td>\n",
       "      <td>22</td>\n",
       "      <td>7/1/2016 3:00</td>\n",
       "      <td>7/1/2016 3:00</td>\n",
       "      <td>Australia/Hobart</td>\n",
       "      <td>12.6</td>\n",
       "      <td>10.0</td>\n",
       "      <td>...</td>\n",
       "      <td>0.0</td>\n",
       "      <td>1011</td>\n",
       "      <td>0.0</td>\n",
       "      <td>0.0</td>\n",
       "      <td>0.125000</td>\n",
       "      <td>12.5</td>\n",
       "      <td>11.8</td>\n",
       "      <td>11.2</td>\n",
       "      <td>10.8</td>\n",
       "      <td>9.7</td>\n",
       "    </tr>\n",
       "    <tr>\n",
       "      <th>4</th>\n",
       "      <td>62</td>\n",
       "      <td>1467309600</td>\n",
       "      <td>1</td>\n",
       "      <td>94008</td>\n",
       "      <td>22</td>\n",
       "      <td>7/1/2016 4:00</td>\n",
       "      <td>7/1/2016 4:00</td>\n",
       "      <td>Australia/Hobart</td>\n",
       "      <td>12.5</td>\n",
       "      <td>10.3</td>\n",
       "      <td>...</td>\n",
       "      <td>0.0</td>\n",
       "      <td>1011</td>\n",
       "      <td>0.0</td>\n",
       "      <td>0.0</td>\n",
       "      <td>0.166667</td>\n",
       "      <td>11.8</td>\n",
       "      <td>11.2</td>\n",
       "      <td>10.8</td>\n",
       "      <td>9.7</td>\n",
       "      <td>11.1</td>\n",
       "    </tr>\n",
       "  </tbody>\n",
       "</table>\n",
       "<p>5 rows × 26 columns</p>\n",
       "</div>"
      ],
      "text/plain": [
       "   ObservationId   Timestamp  ParentLocationId  RelatedLocationId  ReadingId  \\\n",
       "0             60  1467295200                 1              94008         21   \n",
       "1             59  1467298800                 1              94008         21   \n",
       "2             64  1467302400                 1              94008         22   \n",
       "3             63  1467306000                 1              94008         22   \n",
       "4             62  1467309600                 1              94008         22   \n",
       "\n",
       "         UtcTime      LocalTime          TimeZone  Temperature  FeelsLike  \\\n",
       "0  7/1/2016 0:00  7/1/2016 0:00  Australia/Hobart          8.8        6.7   \n",
       "1  7/1/2016 1:00  7/1/2016 1:00  Australia/Hobart         11.0        8.6   \n",
       "2  7/1/2016 2:00  7/1/2016 2:00  Australia/Hobart         11.7        9.2   \n",
       "3  7/1/2016 3:00  7/1/2016 3:00  Australia/Hobart         12.6       10.0   \n",
       "4  7/1/2016 4:00  7/1/2016 4:00  Australia/Hobart         12.5       10.3   \n",
       "\n",
       "   ...    RainSince9am  Pressure  RainfallLastHour RainfallLast10Minutes  \\\n",
       "0  ...             0.0      1011               0.0                   0.0   \n",
       "1  ...             0.0      1012               0.0                   0.0   \n",
       "2  ...             0.0      1012               0.0                   0.0   \n",
       "3  ...             0.0      1011               0.0                   0.0   \n",
       "4  ...             0.0      1011               0.0                   0.0   \n",
       "\n",
       "   time_index  y_t_1  y_t_2  y_t_3  y_t_4  y_t_5  \n",
       "0    0.000000   11.0   11.7   12.6   12.5   11.8  \n",
       "1    0.041667   11.7   12.6   12.5   11.8   11.2  \n",
       "2    0.083333   12.6   12.5   11.8   11.2   10.8  \n",
       "3    0.125000   12.5   11.8   11.2   10.8    9.7  \n",
       "4    0.166667   11.8   11.2   10.8    9.7   11.1  \n",
       "\n",
       "[5 rows x 26 columns]"
      ]
     },
     "execution_count": 5,
     "metadata": {},
     "output_type": "execute_result"
    }
   ],
   "source": [
    "# for (t+5) forecasts, which means forecasting for the next 5 hours\n",
    "# df.WindDirectionCompass.unique()\n",
    "df['y_t_1'] = df.Temperature.shift(-1) # y_(t+1)\n",
    "df['y_t_2'] = df.Temperature.shift(-2) # y_(t+2)\n",
    "df['y_t_3'] = df.Temperature.shift(-3) # y_(t+3)\n",
    "df['y_t_4'] = df.Temperature.shift(-4) # y_(t+4)\n",
    "df['y_t_5'] = df.Temperature.shift(-5) # y_(t+5)\n",
    "\n",
    "df.head(5)"
   ]
  },
  {
   "cell_type": "code",
   "execution_count": 12,
   "metadata": {
    "collapsed": true
   },
   "outputs": [],
   "source": [
    "# df.to_csv('July2016_pandas_df.csv')"
   ]
  },
  {
   "cell_type": "code",
   "execution_count": 6,
   "metadata": {
    "collapsed": false
   },
   "outputs": [
    {
     "name": "stdout",
     "output_type": "stream",
     "text": [
      "(744, 1)\n"
     ]
    }
   ],
   "source": [
    "y_gt = df.as_matrix(columns=['Temperature'])\n",
    "print(y_gt.shape)"
   ]
  },
  {
   "cell_type": "code",
   "execution_count": 7,
   "metadata": {
    "collapsed": false
   },
   "outputs": [
    {
     "name": "stdout",
     "output_type": "stream",
     "text": [
      "744 500 244\n"
     ]
    }
   ],
   "source": [
    "tot_points = y_gt.shape[0]\n",
    "train_points = 500\n",
    "test_points = tot_points - train_points\n",
    "print(tot_points, train_points, test_points)"
   ]
  },
  {
   "cell_type": "code",
   "execution_count": 7,
   "metadata": {
    "collapsed": false
   },
   "outputs": [],
   "source": [
    "# df.y_t_1.name"
   ]
  },
  {
   "cell_type": "code",
   "execution_count": 8,
   "metadata": {
    "collapsed": false
   },
   "outputs": [
    {
     "name": "stdout",
     "output_type": "stream",
     "text": [
      "(744, 10)\n",
      "(744, 1)\n",
      "(744, 1)\n",
      "(744, 1)\n",
      "(744, 1)\n",
      "(744, 1)\n"
     ]
    }
   ],
   "source": [
    "# x = df.as_matrix(columns=['time_index', 'FeelsLike', 'DewPoint', 'RelativeHumidity', 'WindSpeed', 'WindGust', 'RainSince9am', 'Pressure', 'RainfallLastHour', 'RainfallLast10Minutes'])\n",
    "\n",
    "# x_t1 = df.as_matrix(columns=['time_index', 'RelativeHumidity', 'WindSpeed', 'WindGust', 'Pressure'])\n",
    "x_t1 = df.as_matrix(columns=['time_index', 'FeelsLike', 'DewPoint', 'RelativeHumidity', 'WindSpeed', 'WindGust', 'RainSince9am', 'Pressure', 'RainfallLastHour', 'RainfallLast10Minutes'])\n",
    "# x_t1 = df.as_matrix(columns=['FeelsLike', 'DewPoint', 'RelativeHumidity', 'WindSpeed', 'WindGust', 'RainSince9am', 'Pressure', 'RainfallLastHour', 'RainfallLast10Minutes'])\n",
    "\n",
    "# Do scaling according to min-max scaling\n",
    "scaler_minmax = preprocessing.MinMaxScaler()\n",
    "x_t1 = scaler_minmax.fit_transform(x_t1)\n",
    "\n",
    "\n",
    "# get the vectors for five-hour forecast\n",
    "y_gt_t1 = df.as_matrix(columns=[df.y_t_1.name])\n",
    "y_gt_t2 = df.as_matrix(columns=[df.y_t_2.name])\n",
    "y_gt_t3 = df.as_matrix(columns=[df.y_t_3.name])\n",
    "y_gt_t4 = df.as_matrix(columns=[df.y_t_4.name])\n",
    "y_gt_t5 = df.as_matrix(columns=[df.y_t_5.name])\n",
    "\n",
    "print(x_t1.shape)\n",
    "print(y_gt_t1.shape)\n",
    "print(y_gt_t2.shape)\n",
    "print(y_gt_t3.shape)\n",
    "print(y_gt_t4.shape)\n",
    "print(y_gt_t5.shape)"
   ]
  },
  {
   "cell_type": "code",
   "execution_count": 12,
   "metadata": {
    "collapsed": false
   },
   "outputs": [
    {
     "name": "stdout",
     "output_type": "stream",
     "text": [
      "[[ 0.0013459   0.60674157  0.6516129   0.40350877  0.26315789  0.31730769\n",
      "   0.          0.69811321  0.          0.        ]]\n"
     ]
    }
   ],
   "source": [
    "# x_t1[743:744,:]\n",
    "# y_gt_t1[0:744,:]\n",
    "# print(y_gt_t1.shape[0],y_gt_t1.shape[1])\n",
    "print(x_t1[1:2,:])"
   ]
  },
  {
   "cell_type": "code",
   "execution_count": 13,
   "metadata": {
    "collapsed": false
   },
   "outputs": [
    {
     "name": "stdout",
     "output_type": "stream",
     "text": [
      "(501, 10) (501, 1) (501, 1) (501, 1) (501, 1) (501, 1)\n",
      "(244, 10) (244, 1) (244, 1) (244, 1) (244, 1) (244, 1)\n"
     ]
    }
   ],
   "source": [
    "# Generate Train Sequence\n",
    "x_t1_train = x_t1[0:train_points + 1,:]\n",
    "y_gt_t1_train = y_gt_t1[0:train_points + 1,:]\n",
    "y_gt_t2_train = y_gt_t2[0:train_points + 1,:]\n",
    "y_gt_t3_train = y_gt_t3[0:train_points + 1,:]\n",
    "y_gt_t4_train = y_gt_t4[0:train_points + 1,:]\n",
    "y_gt_t5_train = y_gt_t5[0:train_points + 1,:]\n",
    "\n",
    "\n",
    "\n",
    "\n",
    "# Generate Test Sequence\n",
    "x_t1_test = x_t1[train_points:tot_points + 1 ,:]\n",
    "y_t1_test = y_gt_t1[train_points:tot_points + 1,:]\n",
    "y_t2_test = y_gt_t2[train_points:tot_points + 1,:]\n",
    "y_t3_test = y_gt_t3[train_points:tot_points + 1,:]\n",
    "y_t4_test = y_gt_t4[train_points:tot_points + 1,:]\n",
    "y_t5_test = y_gt_t5[train_points:tot_points + 1,:]\n",
    "\n",
    "\n",
    "print(x_t1_train.shape, y_gt_t1_train.shape, y_gt_t2_train.shape, y_gt_t3_train.shape, y_gt_t4_train.shape, y_gt_t5_train.shape)\n",
    "print(x_t1_test.shape, y_t1_test.shape, y_t2_test.shape, y_t3_test.shape, y_t4_test.shape, y_t5_test.shape)"
   ]
  },
  {
   "cell_type": "code",
   "execution_count": 14,
   "metadata": {
    "collapsed": false
   },
   "outputs": [
    {
     "name": "stdout",
     "output_type": "stream",
     "text": [
      "[ 0.67294751  0.69101124  0.96774194  0.68421053  0.36842105  0.375       0.95\n",
      "  0.18867925  0.63157895  0.63157895]\n"
     ]
    }
   ],
   "source": [
    "# print(y_gt_t4_train[0:5,:])\n",
    "print(x_t1_test[0])"
   ]
  },
  {
   "cell_type": "code",
   "execution_count": 15,
   "metadata": {
    "collapsed": false
   },
   "outputs": [
    {
     "data": {
      "text/plain": [
       "LinearRegression(copy_X=True, fit_intercept=True, n_jobs=1, normalize=False)"
      ]
     },
     "execution_count": 15,
     "metadata": {},
     "output_type": "execute_result"
    }
   ],
   "source": [
    "# call linear regression for five forecasts\n",
    "obj_1 = linear_model.LinearRegression()\n",
    "obj_1.fit(x_t1_train,y_gt_t1_train)\n",
    "\n",
    "obj_2 = linear_model.LinearRegression()\n",
    "obj_2.fit(x_t1_train,y_gt_t2_train)\n",
    "\n",
    "obj_3 = linear_model.LinearRegression()\n",
    "obj_3.fit(x_t1_train,y_gt_t3_train)\n",
    "\n",
    "obj_4 = linear_model.LinearRegression()\n",
    "obj_4.fit(x_t1_train,y_gt_t4_train)\n",
    "\n",
    "obj_5 = linear_model.LinearRegression()\n",
    "obj_5.fit(x_t1_train,y_gt_t5_train)"
   ]
  },
  {
   "cell_type": "code",
   "execution_count": 16,
   "metadata": {
    "collapsed": false
   },
   "outputs": [
    {
     "name": "stdout",
     "output_type": "stream",
     "text": [
      "[ 12.41968171] [ 11.96666764] [ 11.68502508] [ 11.41813123] [ 11.02947464]\n"
     ]
    }
   ],
   "source": [
    "# regression_object.predict(x)[0:5] predict first five data vectors\n",
    "test_ind = 0;\n",
    "ybar_1 = obj_1.predict(x_t1_test)[test_ind]\n",
    "ybar_2 = obj_2.predict(x_t1_test)[test_ind]\n",
    "ybar_3 = obj_3.predict(x_t1_test)[test_ind]\n",
    "ybar_4 = obj_4.predict(x_t1_test)[test_ind]\n",
    "ybar_5 = obj_5.predict(x_t1_test)[test_ind]\n",
    "print(ybar_1, ybar_2, ybar_3, ybar_4, ybar_5)"
   ]
  },
  {
   "cell_type": "code",
   "execution_count": 17,
   "metadata": {
    "collapsed": false
   },
   "outputs": [
    {
     "name": "stdout",
     "output_type": "stream",
     "text": [
      "[ 11.9  12.4  13.8  14.7  14.6]\n",
      "[ 12.41968171  11.96666764  11.68502508  11.41813123  11.02947464]\n"
     ]
    }
   ],
   "source": [
    "# get groundtruth vector\n",
    "y_gt_vec = np.empty(5)\n",
    "y_gt_vec[0] = y_t1_test[test_ind]\n",
    "y_gt_vec[1] = y_t2_test[test_ind]\n",
    "y_gt_vec[2] = y_t3_test[test_ind]\n",
    "y_gt_vec[3] = y_t4_test[test_ind]\n",
    "y_gt_vec[4] = y_t5_test[test_ind]\n",
    "print(y_gt_vec)\n",
    "\n",
    "# get prediction vector\n",
    "y_pred_vec = np.empty(5)\n",
    "y_pred_vec[0] = ybar_1\n",
    "y_pred_vec[1] = ybar_2\n",
    "y_pred_vec[2] = ybar_3\n",
    "y_pred_vec[3] = ybar_4\n",
    "y_pred_vec[4] = ybar_5\n",
    "\n",
    "print(y_pred_vec)"
   ]
  },
  {
   "cell_type": "code",
   "execution_count": 18,
   "metadata": {
    "collapsed": false
   },
   "outputs": [
    {
     "name": "stdout",
     "output_type": "stream",
     "text": [
      "from function, sse = 28.450279\n",
      "\n"
     ]
    }
   ],
   "source": [
    "# print('from function = \\n' sum_of_square(y_pred_vec, y_gt_vec))\n",
    "sse = sum_of_square(y_pred_vec, y_gt_vec)\n",
    "print('from function, sse = %f\\n' %(sse) )"
   ]
  },
  {
   "cell_type": "code",
   "execution_count": 19,
   "metadata": {
    "collapsed": false
   },
   "outputs": [
    {
     "name": "stdout",
     "output_type": "stream",
     "text": [
      "[-0.51968171  0.43333236  2.11497492  3.28186877  3.57052536]\n",
      "[  0.27006908   0.18777694   4.47311889  10.77066261  12.74865135]\n",
      "Sum of squared deviations = 28.450279\n",
      "\n"
     ]
    }
   ],
   "source": [
    "# all_data = np.append(x_reshaped,col,1)\n",
    "diff_vec = y_gt_vec - y_pred_vec\n",
    "val_squared = np.square(diff_vec)\n",
    "sse = np.sum(val_squared)\n",
    "print(diff_vec)\n",
    "print(val_squared)\n",
    "print('Sum of squared deviations = %f\\n' % (sse))\n"
   ]
  },
  {
   "cell_type": "code",
   "execution_count": 26,
   "metadata": {
    "collapsed": false
   },
   "outputs": [],
   "source": [
    "# all_data.shape\n"
   ]
  },
  {
   "cell_type": "code",
   "execution_count": 27,
   "metadata": {
    "collapsed": false
   },
   "outputs": [],
   "source": [
    "# regression_object.fit(all_data,y)"
   ]
  },
  {
   "cell_type": "code",
   "execution_count": 49,
   "metadata": {
    "collapsed": false
   },
   "outputs": [],
   "source": [
    "# all_data\n",
    "# find Nan in array\n",
    "# nan_indices = np.argwhere(np.isnan(y_t1_test))\n",
    "# nan_indices"
   ]
  },
  {
   "cell_type": "code",
   "execution_count": 50,
   "metadata": {
    "collapsed": false
   },
   "outputs": [],
   "source": [
    "# y_play = y_t1_test\n",
    "# y_play"
   ]
  },
  {
   "cell_type": "code",
   "execution_count": 51,
   "metadata": {
    "collapsed": false
   },
   "outputs": [],
   "source": [
    "# print(regression_object.intercept_)\n",
    "# print(regression_object.coef_)"
   ]
  },
  {
   "cell_type": "code",
   "execution_count": 52,
   "metadata": {
    "collapsed": false
   },
   "outputs": [],
   "source": [
    "# regression_object.predict(x)[0:5] predict first five data vectors\n",
    "# pred_y = regression_object.predict(x_t1_test)[0:5]"
   ]
  },
  {
   "cell_type": "code",
   "execution_count": 53,
   "metadata": {
    "collapsed": false
   },
   "outputs": [],
   "source": [
    "# print(pred_y.shape)"
   ]
  },
  {
   "cell_type": "code",
   "execution_count": 79,
   "metadata": {
    "collapsed": false
   },
   "outputs": [
    {
     "data": {
      "text/plain": [
       "<matplotlib.text.Text at 0x1caa7d661d0>"
      ]
     },
     "execution_count": 79,
     "metadata": {},
     "output_type": "execute_result"
    },
    {
     "data": {
      "image/png": "[encoded data removed]",
      "text/plain": [
       "<matplotlib.figure.Figure at 0x1caa7b9cda0>"
      ]
     },
     "metadata": {},
     "output_type": "display_data"
    }
   ],
   "source": [
    "plt.scatter(y_gt_vec,y_pred_vec)\n",
    "plt.xlabel('Groundtruth')\n",
    "plt.ylabel('Prediction')\n",
    "plt.title('Groundtruth vs Prediction')"
   ]
  },
  {
   "cell_type": "code",
   "execution_count": 55,
   "metadata": {
    "collapsed": false
   },
   "outputs": [],
   "source": [
    "# print(regression_object.predict(x)[105:109])\n",
    "# print(regression_object.coef_)\n",
    "# print(x[0:1,:].shape)"
   ]
  },
  {
   "cell_type": "code",
   "execution_count": 56,
   "metadata": {
    "collapsed": false
   },
   "outputs": [],
   "source": [
    "# use y_predict = coeffs*X + intercept for prediction and see if you have gotten their format\n",
    "\n",
    "# obs = 105; # 1st observation\n",
    "# data_vector = x[obs:obs+1,:] # Rank-2 view of data_vector\n",
    "# intercept = regression_object.intercept_\n",
    "# coeffs = regression_object.coef_\n",
    "# print(data_vector.shape, coeffs.shape)\n",
    "# print(data_vector, coeffs)\n",
    "# print(np.dot(data_vector[0],coeffs[0]))\n",
    "\n",
    "# Handling numpy arrays\n",
    "# coeffs_1Darray = coeffs[0]\n",
    "# data_vector_1Darray = data_vector[0]\n",
    "\n",
    "# y_predict = (np.dot(coeffs_1Darray,data_vector_1Darray)) + intercept\n",
    "# print('prediction = %f\\n' %y_predict)"
   ]
  },
  {
   "cell_type": "code",
   "execution_count": 52,
   "metadata": {
    "collapsed": false
   },
   "outputs": [],
   "source": [
    "# Printing the first column of data matrix, which is time\n",
    "# x[:,0:1]\n",
    "# pred_y "
   ]
  },
  {
   "cell_type": "code",
   "execution_count": 20,
   "metadata": {
    "collapsed": false
   },
   "outputs": [
    {
     "data": {
      "text/plain": [
       "<matplotlib.text.Text at 0x1f1a18f8240>"
      ]
     },
     "execution_count": 20,
     "metadata": {},
     "output_type": "execute_result"
    },
    {
     "data": {
      "image/png": "[encoded data removed]",
      "text/plain": [
       "<matplotlib.figure.Figure at 0x1f1a154e438>"
      ]
     },
     "metadata": {},
     "output_type": "display_data"
    }
   ],
   "source": [
    "# time_index = x_t1_test[test_ind:test_ind + 5, 0:1];\n",
    "time_index = np.arange(0,1,0.2)\n",
    "# print(time_ind)\n",
    "plt.plot(time_index,y_gt_vec,label=\"GroundTruth\",color='b')\n",
    "plt.plot(time_index,y_pred_vec,label=\"Prediction\",color='g')\n",
    "plt.xlabel('Time')\n",
    "plt.ylabel('Temperature')\n",
    "plt.legend()\n",
    "plt.title('Original and Predicted Timeseries when everything is taken into account')"
   ]
  },
  {
   "cell_type": "code",
   "execution_count": 21,
   "metadata": {
    "collapsed": false
   },
   "outputs": [
    {
     "name": "stdout",
     "output_type": "stream",
     "text": [
      "[ 0.   0.2  0.4  0.6  0.8]\n",
      "[ 11.9  12.4  13.8  14.7  14.6]\n",
      "[ 12.41968171  11.96666764  11.68502508  11.41813123  11.02947464]\n"
     ]
    }
   ],
   "source": [
    "print(time_index)\n",
    "print(y_gt_vec)\n",
    "print(y_pred_vec)"
   ]
  },
  {
   "cell_type": "code",
   "execution_count": 58,
   "metadata": {
    "collapsed": false
   },
   "outputs": [],
   "source": [
    "# scatter plots of data \n",
    "# str_text='RainfallLast10Minutes'\n",
    "# plt.scatter(y_gt_t1_train,df.as_matrix(columns=[str_text]),color='r')\n",
    "# plt.xlabel('Temperature')\n",
    "# plt.ylabel(str_text)"
   ]
  },
  {
   "cell_type": "code",
   "execution_count": 59,
   "metadata": {
    "collapsed": false
   },
   "outputs": [],
   "source": [
    "# df.as_matrix(columns=['Temperature'])"
   ]
  },
  {
   "cell_type": "code",
   "execution_count": null,
   "metadata": {
    "collapsed": false
   },
   "outputs": [],
   "source": []
  },
  {
   "cell_type": "code",
   "execution_count": null,
   "metadata": {
    "collapsed": true
   },
   "outputs": [],
   "source": []
  },
  {
   "cell_type": "code",
   "execution_count": null,
   "metadata": {
    "collapsed": true
   },
   "outputs": [],
   "source": []
  }
 ],
 "metadata": {
  "anaconda-cloud": {},
  "kernelspec": {
   "display_name": "Python [conda env:sequential_regression]",
   "language": "python",
   "name": "conda-env-sequential_regression-py"
  },
  "language_info": {
   "codemirror_mode": {
    "name": "ipython",
    "version": 3
   },
   "file_extension": ".py",
   "mimetype": "text/x-python",
   "name": "python",
   "nbconvert_exporter": "python",
   "pygments_lexer": "ipython3",
   "version": "3.5.2"
  }
 },
 "nbformat": 4,
 "nbformat_minor": 1
}
