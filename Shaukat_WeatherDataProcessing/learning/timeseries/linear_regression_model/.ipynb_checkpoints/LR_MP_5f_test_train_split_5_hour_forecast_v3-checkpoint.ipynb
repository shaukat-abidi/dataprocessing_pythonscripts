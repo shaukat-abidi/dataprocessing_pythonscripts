{
 "cells": [
  {
   "cell_type": "code",
   "execution_count": 222,
   "metadata": {
    "collapsed": true
   },
   "outputs": [],
   "source": [
    "import pandas as pd\n",
    "import numpy as np\n",
    "import matplotlib.pyplot as plt\n",
    "from sklearn import linear_model\n",
    "from sklearn import preprocessing\n",
    "from sklearn.preprocessing import PolynomialFeatures\n",
    "import scipy.stats as stats\n",
    "%matplotlib inline\n",
    "\n",
    "\n",
    "def sum_of_square(vec_a, vec_b):\n",
    "    diff = vec_a - vec_b\n",
    "    diff_squared = np.square(diff)\n",
    "    return (np.sum(diff_squared))\n",
    "\n",
    "df = pd.read_csv(\"C:\\\\Users\\\\ShaukatAbidi\\\\Documents\\\\shaukat_python_progs\\\\eto_experiment\\\\data_eto\\\\data_respository\\\\July2016_sorted_station_timeind.csv\")"
   ]
  },
  {
   "cell_type": "code",
   "execution_count": 223,
   "metadata": {
    "collapsed": true
   },
   "outputs": [],
   "source": [
    "df['y_t_1'] = df.Temperature.shift(-1) # y_(t+1)\n",
    "df['y_t_2'] = df.Temperature.shift(-2) # y_(t+2)\n",
    "df['y_t_3'] = df.Temperature.shift(-3) # y_(t+3)\n",
    "df['y_t_4'] = df.Temperature.shift(-4) # y_(t+4)\n",
    "df['y_t_5'] = df.Temperature.shift(-5) # y_(t+5)"
   ]
  },
  {
   "cell_type": "code",
   "execution_count": 224,
   "metadata": {
    "collapsed": false
   },
   "outputs": [
    {
     "name": "stdout",
     "output_type": "stream",
     "text": [
      "744 700 44\n"
     ]
    }
   ],
   "source": [
    "y_gt = df.as_matrix(columns=['Temperature'])\n",
    "\n",
    "tot_points = y_gt.shape[0]\n",
    "train_points = 700\n",
    "test_points = tot_points - train_points\n",
    "print(tot_points, train_points, test_points)"
   ]
  },
  {
   "cell_type": "code",
   "execution_count": 225,
   "metadata": {
    "collapsed": false
   },
   "outputs": [],
   "source": [
    "# df\n",
    "# print(linear_model.LinearRegression.__doc__)\n",
    "# df.keys()"
   ]
  },
  {
   "cell_type": "code",
   "execution_count": 226,
   "metadata": {
    "collapsed": false
   },
   "outputs": [],
   "source": [
    "# for (t+5) forecasts, which means forecasting for the next 5 hours\n",
    "# df.WindDirectionCompass.unique()\n",
    "\n",
    "# df.head(5)"
   ]
  },
  {
   "cell_type": "code",
   "execution_count": 227,
   "metadata": {
    "collapsed": true
   },
   "outputs": [],
   "source": [
    "# df.to_csv('July2016_pandas_df.csv')"
   ]
  },
  {
   "cell_type": "code",
   "execution_count": 228,
   "metadata": {
    "collapsed": false
   },
   "outputs": [
    {
     "name": "stdout",
     "output_type": "stream",
     "text": [
      "(744, 1)\n"
     ]
    }
   ],
   "source": [
    "print(y_gt.shape)"
   ]
  },
  {
   "cell_type": "code",
   "execution_count": null,
   "metadata": {
    "collapsed": false
   },
   "outputs": [],
   "source": []
  },
  {
   "cell_type": "code",
   "execution_count": 229,
   "metadata": {
    "collapsed": false
   },
   "outputs": [],
   "source": [
    "# df.y_t_1.name"
   ]
  },
  {
   "cell_type": "code",
   "execution_count": 230,
   "metadata": {
    "collapsed": false
   },
   "outputs": [
    {
     "name": "stdout",
     "output_type": "stream",
     "text": [
      "(744, 46)\n",
      "(744, 1)\n",
      "(744, 1)\n",
      "(744, 1)\n",
      "(744, 1)\n",
      "(744, 1)\n"
     ]
    }
   ],
   "source": [
    "# x = df.as_matrix(columns=['time_index', 'FeelsLike', 'DewPoint', 'RelativeHumidity', 'WindSpeed', 'WindGust', 'RainSince9am', 'Pressure', 'RainfallLastHour', 'RainfallLast10Minutes'])\n",
    "\n",
    "# x_t1 = df.as_matrix(columns=['time_index', 'RelativeHumidity', 'WindSpeed', 'WindGust', 'Pressure'])\n",
    "# x_t1 = df.as_matrix(columns=['time_index', 'FeelsLike', 'DewPoint', 'RelativeHumidity', 'WindSpeed', 'WindGust', 'RainSince9am', 'Pressure', 'RainfallLastHour', 'RainfallLast10Minutes'])\n",
    "x_t1 = df.as_matrix(columns=['FeelsLike', 'DewPoint', 'RelativeHumidity', 'WindSpeed', 'WindGust', 'RainSince9am', 'Pressure', 'RainfallLastHour', 'RainfallLast10Minutes'])\n",
    "\n",
    "# Do scaling according to min-max scaling\n",
    "scaler_minmax = preprocessing.MinMaxScaler()\n",
    "x_t1 = scaler_minmax.fit_transform(x_t1)\n",
    "\n",
    "# Add polynomials\n",
    "poly = PolynomialFeatures(degree=2, interaction_only=True)\n",
    "x_t1 = poly.fit_transform(x_t1)\n",
    "\n",
    "# get the vectors for five-hour forecast\n",
    "y_gt_t1 = df.as_matrix(columns=[df.y_t_1.name])\n",
    "y_gt_t2 = df.as_matrix(columns=[df.y_t_2.name])\n",
    "y_gt_t3 = df.as_matrix(columns=[df.y_t_3.name])\n",
    "y_gt_t4 = df.as_matrix(columns=[df.y_t_4.name])\n",
    "y_gt_t5 = df.as_matrix(columns=[df.y_t_5.name])\n",
    "\n",
    "print(x_t1.shape)\n",
    "print(y_gt_t1.shape)\n",
    "print(y_gt_t2.shape)\n",
    "print(y_gt_t3.shape)\n",
    "print(y_gt_t4.shape)\n",
    "print(y_gt_t5.shape)"
   ]
  },
  {
   "cell_type": "code",
   "execution_count": 231,
   "metadata": {
    "collapsed": false
   },
   "outputs": [
    {
     "name": "stdout",
     "output_type": "stream",
     "text": [
      "[[ 1.          0.60674157  0.6516129   0.40350877  0.26315789  0.31730769\n",
      "   0.          0.69811321  0.          0.          0.39536064  0.24482555\n",
      "   0.15966884  0.19252377  0.          0.42357431  0.          0.\n",
      "   0.26293152  0.17147708  0.20676179  0.          0.45489957  0.          0.\n",
      "   0.10618652  0.12803644  0.          0.2816948   0.          0.\n",
      "   0.08350202  0.          0.183714    0.          0.          0.\n",
      "   0.22151669  0.          0.          0.          0.          0.          0.\n",
      "   0.          0.        ]]\n"
     ]
    }
   ],
   "source": [
    "# x_t1[743:744,:]\n",
    "# y_gt_t1[0:744,:]\n",
    "# print(y_gt_t1.shape[0],y_gt_t1.shape[1])\n",
    "print(x_t1[1:2,:])"
   ]
  },
  {
   "cell_type": "code",
   "execution_count": 232,
   "metadata": {
    "collapsed": false
   },
   "outputs": [
    {
     "name": "stdout",
     "output_type": "stream",
     "text": [
      "(701, 46) (701, 1) (701, 1) (701, 1) (701, 1) (701, 1)\n",
      "(44, 46) (44, 1) (44, 1) (44, 1) (44, 1) (44, 1)\n"
     ]
    }
   ],
   "source": [
    "# Generate Train Sequence\n",
    "x_t1_train = x_t1[0:train_points + 1,:]\n",
    "y_gt_t1_train = y_gt_t1[0:train_points + 1,:]\n",
    "y_gt_t2_train = y_gt_t2[0:train_points + 1,:]\n",
    "y_gt_t3_train = y_gt_t3[0:train_points + 1,:]\n",
    "y_gt_t4_train = y_gt_t4[0:train_points + 1,:]\n",
    "y_gt_t5_train = y_gt_t5[0:train_points + 1,:]\n",
    "\n",
    "\n",
    "\n",
    "\n",
    "# Generate Test Sequence\n",
    "x_t1_test = x_t1[train_points:tot_points + 1 ,:]\n",
    "y_t1_test = y_gt_t1[train_points:tot_points + 1,:]\n",
    "y_t2_test = y_gt_t2[train_points:tot_points + 1,:]\n",
    "y_t3_test = y_gt_t3[train_points:tot_points + 1,:]\n",
    "y_t4_test = y_gt_t4[train_points:tot_points + 1,:]\n",
    "y_t5_test = y_gt_t5[train_points:tot_points + 1,:]\n",
    "\n",
    "\n",
    "print(x_t1_train.shape, y_gt_t1_train.shape, y_gt_t2_train.shape, y_gt_t3_train.shape, y_gt_t4_train.shape, y_gt_t5_train.shape)\n",
    "print(x_t1_test.shape, y_t1_test.shape, y_t2_test.shape, y_t3_test.shape, y_t4_test.shape, y_t5_test.shape)"
   ]
  },
  {
   "cell_type": "code",
   "execution_count": 254,
   "metadata": {
    "collapsed": false
   },
   "outputs": [],
   "source": [
    "# print(y_gt_t4_train[0:5,:])\n",
    "# print(x_t1_test[0])\n",
    "# print(y_t5_test)"
   ]
  },
  {
   "cell_type": "code",
   "execution_count": 234,
   "metadata": {
    "collapsed": false
   },
   "outputs": [
    {
     "data": {
      "text/plain": [
       "LinearRegression(copy_X=True, fit_intercept=True, n_jobs=1, normalize=False)"
      ]
     },
     "execution_count": 234,
     "metadata": {},
     "output_type": "execute_result"
    }
   ],
   "source": [
    "# call linear regression for five forecasts\n",
    "obj_1 = linear_model.LinearRegression()\n",
    "obj_1.fit(x_t1_train,y_gt_t1_train)\n",
    "\n",
    "obj_2 = linear_model.LinearRegression()\n",
    "obj_2.fit(x_t1_train,y_gt_t2_train)\n",
    "\n",
    "obj_3 = linear_model.LinearRegression()\n",
    "obj_3.fit(x_t1_train,y_gt_t3_train)\n",
    "\n",
    "obj_4 = linear_model.LinearRegression()\n",
    "obj_4.fit(x_t1_train,y_gt_t4_train)\n",
    "\n",
    "obj_5 = linear_model.LinearRegression()\n",
    "obj_5.fit(x_t1_train,y_gt_t5_train)"
   ]
  },
  {
   "cell_type": "code",
   "execution_count": 235,
   "metadata": {
    "collapsed": false
   },
   "outputs": [
    {
     "name": "stdout",
     "output_type": "stream",
     "text": [
      "[ 9.92295544] [ 9.58266314] [ 9.17223622] [ 8.8110058] [ 8.59119297]\n"
     ]
    }
   ],
   "source": [
    "# regression_object.predict(x)[0:5] predict first five data vectors\n",
    "test_ind = 0;\n",
    "ybar_1 = obj_1.predict(x_t1_test)[test_ind]\n",
    "ybar_2 = obj_2.predict(x_t1_test)[test_ind]\n",
    "ybar_3 = obj_3.predict(x_t1_test)[test_ind]\n",
    "ybar_4 = obj_4.predict(x_t1_test)[test_ind]\n",
    "ybar_5 = obj_5.predict(x_t1_test)[test_ind]\n",
    "print(ybar_1, ybar_2, ybar_3, ybar_4, ybar_5)\n",
    "\n",
    "# get groundtruth vector\n",
    "y_gt_vec = np.empty(5)\n",
    "y_gt_vec[0] = y_t1_test[test_ind]\n",
    "y_gt_vec[1] = y_t2_test[test_ind]\n",
    "y_gt_vec[2] = y_t3_test[test_ind]\n",
    "y_gt_vec[3] = y_t4_test[test_ind]\n",
    "y_gt_vec[4] = y_t5_test[test_ind]\n",
    "print(y_gt_vec)\n",
    "\n",
    "# get prediction vector\n",
    "y_pred_vec = np.empty(5)\n",
    "y_pred_vec[0] = ybar_1\n",
    "y_pred_vec[1] = ybar_2\n",
    "y_pred_vec[2] = ybar_3\n",
    "y_pred_vec[3] = ybar_4\n",
    "y_pred_vec[4] = ybar_5\n",
    "\n",
    "print(y_pred_vec)\n",
    "\n",
    "# print('from function = \\n' sum_of_square(y_pred_vec, y_gt_vec))\n",
    "sse = sum_of_square(y_pred_vec, y_gt_vec)\n",
    "print('from function, sse = %f\\n' %(sse) )"
   ]
  },
  {
   "cell_type": "code",
   "execution_count": 236,
   "metadata": {
    "collapsed": false
   },
   "outputs": [
    {
     "name": "stdout",
     "output_type": "stream",
     "text": [
      "[ 10.3  10.1   9.    9.1   8.7]\n",
      "[ 9.92295544  9.58266314  9.17223622  8.8110058   8.59119297]\n"
     ]
    }
   ],
   "source": []
  },
  {
   "cell_type": "code",
   "execution_count": 237,
   "metadata": {
    "collapsed": false
   },
   "outputs": [
    {
     "name": "stdout",
     "output_type": "stream",
     "text": [
      "from function, sse = 0.534822\n",
      "\n"
     ]
    }
   ],
   "source": []
  },
  {
   "cell_type": "code",
   "execution_count": 238,
   "metadata": {
    "collapsed": false
   },
   "outputs": [
    {
     "name": "stdout",
     "output_type": "stream",
     "text": [
      "[ 0.37704456  0.51733686 -0.17223622  0.2889942   0.10880703]\n",
      "[ 0.1421626   0.26763743  0.02966532  0.08351765  0.01183897]\n",
      "Sum of squared deviations = 0.534822\n",
      "\n"
     ]
    }
   ],
   "source": [
    "# all_data = np.append(x_reshaped,col,1)\n",
    "# diff_vec = y_gt_vec - y_pred_vec\n",
    "# val_squared = np.square(diff_vec)\n",
    "# sse = np.sum(val_squared)\n",
    "# print(diff_vec)\n",
    "# print(val_squared)\n",
    "# print('Sum of squared deviations = %f\\n' % (sse))\n"
   ]
  },
  {
   "cell_type": "code",
   "execution_count": 239,
   "metadata": {
    "collapsed": false
   },
   "outputs": [],
   "source": [
    "# all_data.shape\n"
   ]
  },
  {
   "cell_type": "code",
   "execution_count": 240,
   "metadata": {
    "collapsed": false
   },
   "outputs": [],
   "source": [
    "# regression_object.fit(all_data,y)"
   ]
  },
  {
   "cell_type": "code",
   "execution_count": 241,
   "metadata": {
    "collapsed": false
   },
   "outputs": [],
   "source": [
    "# all_data\n",
    "# find Nan in array\n",
    "# nan_indices = np.argwhere(np.isnan(y_t1_test))\n",
    "# nan_indices"
   ]
  },
  {
   "cell_type": "code",
   "execution_count": 242,
   "metadata": {
    "collapsed": false
   },
   "outputs": [],
   "source": [
    "# y_play = y_t1_test\n",
    "# y_play"
   ]
  },
  {
   "cell_type": "code",
   "execution_count": 243,
   "metadata": {
    "collapsed": false
   },
   "outputs": [],
   "source": [
    "# print(regression_object.intercept_)\n",
    "# print(regression_object.coef_)"
   ]
  },
  {
   "cell_type": "code",
   "execution_count": 244,
   "metadata": {
    "collapsed": false
   },
   "outputs": [],
   "source": [
    "# regression_object.predict(x)[0:5] predict first five data vectors\n",
    "# pred_y = regression_object.predict(x_t1_test)[0:5]"
   ]
  },
  {
   "cell_type": "code",
   "execution_count": 245,
   "metadata": {
    "collapsed": false
   },
   "outputs": [],
   "source": [
    "# print(pred_y.shape)"
   ]
  },
  {
   "cell_type": "code",
   "execution_count": 246,
   "metadata": {
    "collapsed": false
   },
   "outputs": [
    {
     "data": {
      "text/plain": [
       "<matplotlib.text.Text at 0x1eda8e5dfd0>"
      ]
     },
     "execution_count": 246,
     "metadata": {},
     "output_type": "execute_result"
    },
    {
     "data": {
      "image/png": "[encoded data removed]",
      "text/plain": [
       "<matplotlib.figure.Figure at 0x1eda8dba710>"
      ]
     },
     "metadata": {},
     "output_type": "display_data"
    }
   ],
   "source": [
    "plt.scatter(y_gt_vec,y_pred_vec)\n",
    "plt.xlabel('Groundtruth')\n",
    "plt.ylabel('Prediction')\n",
    "plt.title('Groundtruth vs Prediction')"
   ]
  },
  {
   "cell_type": "code",
   "execution_count": 247,
   "metadata": {
    "collapsed": false
   },
   "outputs": [],
   "source": [
    "# print(regression_object.predict(x)[105:109])\n",
    "# print(regression_object.coef_)\n",
    "# print(x[0:1,:].shape)"
   ]
  },
  {
   "cell_type": "code",
   "execution_count": 248,
   "metadata": {
    "collapsed": false
   },
   "outputs": [],
   "source": [
    "# use y_predict = coeffs*X + intercept for prediction and see if you have gotten their format\n",
    "\n",
    "# obs = 105; # 1st observation\n",
    "# data_vector = x[obs:obs+1,:] # Rank-2 view of data_vector\n",
    "# intercept = regression_object.intercept_\n",
    "# coeffs = regression_object.coef_\n",
    "# print(data_vector.shape, coeffs.shape)\n",
    "# print(data_vector, coeffs)\n",
    "# print(np.dot(data_vector[0],coeffs[0]))\n",
    "\n",
    "# Handling numpy arrays\n",
    "# coeffs_1Darray = coeffs[0]\n",
    "# data_vector_1Darray = data_vector[0]\n",
    "\n",
    "# y_predict = (np.dot(coeffs_1Darray,data_vector_1Darray)) + intercept\n",
    "# print('prediction = %f\\n' %y_predict)"
   ]
  },
  {
   "cell_type": "code",
   "execution_count": 249,
   "metadata": {
    "collapsed": false
   },
   "outputs": [],
   "source": [
    "# Printing the first column of data matrix, which is time\n",
    "# x[:,0:1]\n",
    "# pred_y "
   ]
  },
  {
   "cell_type": "code",
   "execution_count": 250,
   "metadata": {
    "collapsed": false
   },
   "outputs": [
    {
     "data": {
      "text/plain": [
       "<matplotlib.text.Text at 0x1edaa05ccc0>"
      ]
     },
     "execution_count": 250,
     "metadata": {},
     "output_type": "execute_result"
    },
    {
     "data": {
      "image/png": "[encoded data removed]",
      "text/plain": [
       "<matplotlib.figure.Figure at 0x1eda8e5c898>"
      ]
     },
     "metadata": {},
     "output_type": "display_data"
    }
   ],
   "source": [
    "# time_index = x_t1_test[test_ind:test_ind + 5, 0:1];\n",
    "time_index = np.arange(1,6,1)\n",
    "# print(time_ind)\n",
    "plt.plot(time_index,y_gt_vec,label=\"GroundTruth\",color='b')\n",
    "plt.plot(time_index,y_pred_vec,label=\"Prediction\",color='g')\n",
    "plt.xlabel('Time')\n",
    "plt.ylabel('Temperature')\n",
    "plt.legend()\n",
    "plt.title('Original and Predicted Timeseries when everything is taken into account')"
   ]
  },
  {
   "cell_type": "code",
   "execution_count": 251,
   "metadata": {
    "collapsed": false
   },
   "outputs": [
    {
     "name": "stdout",
     "output_type": "stream",
     "text": [
      "[1 2 3 4 5]\n",
      "[ 10.3  10.1   9.    9.1   8.7]\n",
      "[ 9.92295544  9.58266314  9.17223622  8.8110058   8.59119297]\n"
     ]
    }
   ],
   "source": [
    "print(time_index)\n",
    "print(y_gt_vec)\n",
    "print(y_pred_vec)"
   ]
  },
  {
   "cell_type": "code",
   "execution_count": 252,
   "metadata": {
    "collapsed": false
   },
   "outputs": [],
   "source": [
    "# scatter plots of data \n",
    "# str_text='RainfallLast10Minutes'\n",
    "# plt.scatter(y_gt_t1_train,df.as_matrix(columns=[str_text]),color='r')\n",
    "# plt.xlabel('Temperature')\n",
    "# plt.ylabel(str_text)"
   ]
  },
  {
   "cell_type": "code",
   "execution_count": 253,
   "metadata": {
    "collapsed": false
   },
   "outputs": [],
   "source": [
    "# df.as_matrix(columns=['Temperature'])"
   ]
  },
  {
   "cell_type": "code",
   "execution_count": null,
   "metadata": {
    "collapsed": false
   },
   "outputs": [],
   "source": []
  },
  {
   "cell_type": "code",
   "execution_count": null,
   "metadata": {
    "collapsed": true
   },
   "outputs": [],
   "source": []
  },
  {
   "cell_type": "code",
   "execution_count": null,
   "metadata": {
    "collapsed": true
   },
   "outputs": [],
   "source": []
  }
 ],
 "metadata": {
  "anaconda-cloud": {},
  "kernelspec": {
   "display_name": "Python [conda env:sequential_regression]",
   "language": "python",
   "name": "conda-env-sequential_regression-py"
  },
  "language_info": {
   "codemirror_mode": {
    "name": "ipython",
    "version": 3
   },
   "file_extension": ".py",
   "mimetype": "text/x-python",
   "name": "python",
   "nbconvert_exporter": "python",
   "pygments_lexer": "ipython3",
   "version": "3.5.2"
  }
 },
 "nbformat": 4,
 "nbformat_minor": 1
}
