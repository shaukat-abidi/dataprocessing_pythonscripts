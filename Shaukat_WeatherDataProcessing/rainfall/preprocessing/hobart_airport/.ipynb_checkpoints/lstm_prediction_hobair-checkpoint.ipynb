{
 "cells": [
  {
   "cell_type": "code",
   "execution_count": 1,
   "metadata": {
    "collapsed": false
   },
   "outputs": [],
   "source": [
    "# Run it once and Comment\n",
    "# import sys\n",
    "# sys.path.append('C:\\\\Shaukat\\\\code\\\\functions_implemented')\n",
    "# print sys.path\n",
    "# import functions_implemented as fi\n"
   ]
  },
  {
   "cell_type": "code",
   "execution_count": 2,
   "metadata": {
    "collapsed": false
   },
   "outputs": [
    {
     "name": "stderr",
     "output_type": "stream",
     "text": [
      "Using Theano backend.\n"
     ]
    }
   ],
   "source": [
    "import pandas as pd\n",
    "import numpy as np\n",
    "import matplotlib.pyplot as plt\n",
    "from sklearn import linear_model\n",
    "from sklearn import preprocessing\n",
    "from sklearn.preprocessing import PolynomialFeatures\n",
    "import scipy.stats as stats\n",
    "from datetime import datetime, timedelta\n",
    "\n",
    "from keras.models import Sequential\n",
    "from keras.layers import Dense\n",
    "from keras.wrappers.scikit_learn import KerasRegressor\n",
    "from keras.callbacks import ModelCheckpoint, CSVLogger, ReduceLROnPlateau\n",
    "from sklearn.model_selection import cross_val_score\n",
    "from sklearn.model_selection import KFold\n",
    "from sklearn.preprocessing import StandardScaler\n",
    "from sklearn.pipeline import Pipeline\n",
    "from sklearn.metrics import mean_squared_error\n",
    "from copy import deepcopy\n",
    "\n",
    "from keras.models import load_model\n",
    "\n",
    "%matplotlib inline\n",
    "\n",
    "\n",
    "\n"
   ]
  },
  {
   "cell_type": "code",
   "execution_count": 3,
   "metadata": {
    "collapsed": false
   },
   "outputs": [],
   "source": [
    "# Load the model from file\n",
    "model = load_model('C:/Shaukat/code/rainfall/model_stored/hobart_airport/model_lstm_v3.h5')"
   ]
  },
  {
   "cell_type": "code",
   "execution_count": 4,
   "metadata": {
    "collapsed": false
   },
   "outputs": [],
   "source": [
    "df_gfs = pd.read_csv(\"C:/Shaukat/code/data_rep/gfs/csv_files/gfs_lat_-43.0_lon_147.25.csv\")\n",
    "df_bom = pd.read_csv(\"C:/Shaukat/code/data_rep/bom/historical_data/2013-2016/TAS/csv/HM01X_Data_094029_999999999405613_gfs_lat_-43.0_lon_147.25.csv\")\n",
    "df_gfs.drop('Unnamed: 0', axis=1, inplace=True)\n",
    "df_bom.drop('Unnamed: 0', axis=1, inplace=True)"
   ]
  },
  {
   "cell_type": "code",
   "execution_count": 5,
   "metadata": {
    "collapsed": false
   },
   "outputs": [],
   "source": [
    "# Setting up GFS\n",
    "df_gfs['utc_datetime'] = pd.to_datetime(df_gfs['utc_datetime'])\n",
    "df_gfs.set_index('utc_datetime', inplace = True)\n",
    "\n",
    "# Setting up BOM\n",
    "# df_bom['date_only'] = df_bom.UtcTime.dt.date\n",
    "df_bom.utc_mmddyyyy = pd.to_datetime(df_bom.utc_mmddyyyy)\n",
    "df_bom.set_index('utc_mmddyyyy', inplace=True)\n",
    "\n",
    "# Trim df_bom and df_gfs from 15 jan 2015\n",
    "df_bom = df_bom.loc['2015-01-15 00:00:00':]\n",
    "df_gfs = df_gfs.loc['2015-01-15 00:00:00':]"
   ]
  },
  {
   "cell_type": "code",
   "execution_count": 6,
   "metadata": {
    "collapsed": false
   },
   "outputs": [
    {
     "data": {
      "text/html": [
       "<div>\n",
       "<table border=\"1\" class=\"dataframe\">\n",
       "  <thead>\n",
       "    <tr style=\"text-align: right;\">\n",
       "      <th></th>\n",
       "      <th>apparent_temperature</th>\n",
       "      <th>cloud_water</th>\n",
       "      <th>dew_point_temp</th>\n",
       "      <th>encoded_time</th>\n",
       "      <th>frozen_precipt</th>\n",
       "      <th>haines_index</th>\n",
       "      <th>lat</th>\n",
       "      <th>lon</th>\n",
       "      <th>potential_temp</th>\n",
       "      <th>precipitable_water</th>\n",
       "      <th>...</th>\n",
       "      <th>u_wind_level_e</th>\n",
       "      <th>v_comp_storm</th>\n",
       "      <th>v_comp_wind_3</th>\n",
       "      <th>v_comp_wind_a</th>\n",
       "      <th>v_comp_wind_b</th>\n",
       "      <th>v_comp_wind_c</th>\n",
       "      <th>v_comp_wind_d</th>\n",
       "      <th>vert_vel</th>\n",
       "      <th>wilting_point</th>\n",
       "      <th>wind_speed_gust</th>\n",
       "    </tr>\n",
       "    <tr>\n",
       "      <th>utc_datetime</th>\n",
       "      <th></th>\n",
       "      <th></th>\n",
       "      <th></th>\n",
       "      <th></th>\n",
       "      <th></th>\n",
       "      <th></th>\n",
       "      <th></th>\n",
       "      <th></th>\n",
       "      <th></th>\n",
       "      <th></th>\n",
       "      <th></th>\n",
       "      <th></th>\n",
       "      <th></th>\n",
       "      <th></th>\n",
       "      <th></th>\n",
       "      <th></th>\n",
       "      <th></th>\n",
       "      <th></th>\n",
       "      <th></th>\n",
       "      <th></th>\n",
       "      <th></th>\n",
       "    </tr>\n",
       "  </thead>\n",
       "  <tbody>\n",
       "    <tr>\n",
       "      <th>2015-01-15 00:00:00</th>\n",
       "      <td>290.600006</td>\n",
       "      <td>0.00</td>\n",
       "      <td>283.600006</td>\n",
       "      <td>2.015012e+09</td>\n",
       "      <td>-50.0</td>\n",
       "      <td>5.0</td>\n",
       "      <td>-43.0</td>\n",
       "      <td>147.25</td>\n",
       "      <td>291.630005</td>\n",
       "      <td>16.600000</td>\n",
       "      <td>...</td>\n",
       "      <td>31.100000</td>\n",
       "      <td>-4.0</td>\n",
       "      <td>-7.300000</td>\n",
       "      <td>3.58</td>\n",
       "      <td>3.22</td>\n",
       "      <td>3.5</td>\n",
       "      <td>-6.2</td>\n",
       "      <td>-1.616</td>\n",
       "      <td>0.1196</td>\n",
       "      <td>7.0</td>\n",
       "    </tr>\n",
       "    <tr>\n",
       "      <th>2015-01-15 06:00:00</th>\n",
       "      <td>289.899994</td>\n",
       "      <td>0.02</td>\n",
       "      <td>282.300018</td>\n",
       "      <td>2.015012e+09</td>\n",
       "      <td>-50.0</td>\n",
       "      <td>5.0</td>\n",
       "      <td>-43.0</td>\n",
       "      <td>147.25</td>\n",
       "      <td>291.519989</td>\n",
       "      <td>16.500000</td>\n",
       "      <td>...</td>\n",
       "      <td>35.500000</td>\n",
       "      <td>-3.8</td>\n",
       "      <td>-8.700000</td>\n",
       "      <td>3.75</td>\n",
       "      <td>3.52</td>\n",
       "      <td>3.1</td>\n",
       "      <td>-7.1</td>\n",
       "      <td>-2.317</td>\n",
       "      <td>0.1196</td>\n",
       "      <td>7.3</td>\n",
       "    </tr>\n",
       "    <tr>\n",
       "      <th>2015-01-15 12:00:00</th>\n",
       "      <td>284.600006</td>\n",
       "      <td>0.03</td>\n",
       "      <td>280.540009</td>\n",
       "      <td>2.015012e+09</td>\n",
       "      <td>-50.0</td>\n",
       "      <td>4.0</td>\n",
       "      <td>-43.0</td>\n",
       "      <td>147.25</td>\n",
       "      <td>287.229980</td>\n",
       "      <td>14.400001</td>\n",
       "      <td>...</td>\n",
       "      <td>32.700001</td>\n",
       "      <td>-5.9</td>\n",
       "      <td>0.200000</td>\n",
       "      <td>-1.24</td>\n",
       "      <td>-0.81</td>\n",
       "      <td>-1.3</td>\n",
       "      <td>-5.5</td>\n",
       "      <td>-1.715</td>\n",
       "      <td>0.1196</td>\n",
       "      <td>5.2</td>\n",
       "    </tr>\n",
       "    <tr>\n",
       "      <th>2015-01-15 18:00:00</th>\n",
       "      <td>283.600006</td>\n",
       "      <td>0.26</td>\n",
       "      <td>280.800018</td>\n",
       "      <td>2.015012e+09</td>\n",
       "      <td>-50.0</td>\n",
       "      <td>3.0</td>\n",
       "      <td>-43.0</td>\n",
       "      <td>147.25</td>\n",
       "      <td>286.359985</td>\n",
       "      <td>15.500000</td>\n",
       "      <td>...</td>\n",
       "      <td>46.500000</td>\n",
       "      <td>-12.1</td>\n",
       "      <td>11.900001</td>\n",
       "      <td>-4.71</td>\n",
       "      <td>-3.68</td>\n",
       "      <td>-5.0</td>\n",
       "      <td>12.2</td>\n",
       "      <td>-2.263</td>\n",
       "      <td>0.1196</td>\n",
       "      <td>5.2</td>\n",
       "    </tr>\n",
       "  </tbody>\n",
       "</table>\n",
       "<p>4 rows × 42 columns</p>\n",
       "</div>"
      ],
      "text/plain": [
       "                     apparent_temperature  cloud_water  dew_point_temp  \\\n",
       "utc_datetime                                                             \n",
       "2015-01-15 00:00:00            290.600006         0.00      283.600006   \n",
       "2015-01-15 06:00:00            289.899994         0.02      282.300018   \n",
       "2015-01-15 12:00:00            284.600006         0.03      280.540009   \n",
       "2015-01-15 18:00:00            283.600006         0.26      280.800018   \n",
       "\n",
       "                     encoded_time  frozen_precipt  haines_index   lat     lon  \\\n",
       "utc_datetime                                                                    \n",
       "2015-01-15 00:00:00  2.015012e+09           -50.0           5.0 -43.0  147.25   \n",
       "2015-01-15 06:00:00  2.015012e+09           -50.0           5.0 -43.0  147.25   \n",
       "2015-01-15 12:00:00  2.015012e+09           -50.0           4.0 -43.0  147.25   \n",
       "2015-01-15 18:00:00  2.015012e+09           -50.0           3.0 -43.0  147.25   \n",
       "\n",
       "                     potential_temp  precipitable_water       ...         \\\n",
       "utc_datetime                                                  ...          \n",
       "2015-01-15 00:00:00      291.630005           16.600000       ...          \n",
       "2015-01-15 06:00:00      291.519989           16.500000       ...          \n",
       "2015-01-15 12:00:00      287.229980           14.400001       ...          \n",
       "2015-01-15 18:00:00      286.359985           15.500000       ...          \n",
       "\n",
       "                     u_wind_level_e  v_comp_storm  v_comp_wind_3  \\\n",
       "utc_datetime                                                       \n",
       "2015-01-15 00:00:00       31.100000          -4.0      -7.300000   \n",
       "2015-01-15 06:00:00       35.500000          -3.8      -8.700000   \n",
       "2015-01-15 12:00:00       32.700001          -5.9       0.200000   \n",
       "2015-01-15 18:00:00       46.500000         -12.1      11.900001   \n",
       "\n",
       "                     v_comp_wind_a  v_comp_wind_b  v_comp_wind_c  \\\n",
       "utc_datetime                                                       \n",
       "2015-01-15 00:00:00           3.58           3.22            3.5   \n",
       "2015-01-15 06:00:00           3.75           3.52            3.1   \n",
       "2015-01-15 12:00:00          -1.24          -0.81           -1.3   \n",
       "2015-01-15 18:00:00          -4.71          -3.68           -5.0   \n",
       "\n",
       "                     v_comp_wind_d  vert_vel  wilting_point  wind_speed_gust  \n",
       "utc_datetime                                                                  \n",
       "2015-01-15 00:00:00           -6.2    -1.616         0.1196              7.0  \n",
       "2015-01-15 06:00:00           -7.1    -2.317         0.1196              7.3  \n",
       "2015-01-15 12:00:00           -5.5    -1.715         0.1196              5.2  \n",
       "2015-01-15 18:00:00           12.2    -2.263         0.1196              5.2  \n",
       "\n",
       "[4 rows x 42 columns]"
      ]
     },
     "execution_count": 6,
     "metadata": {},
     "output_type": "execute_result"
    }
   ],
   "source": [
    "df_gfs.head(4)"
   ]
  },
  {
   "cell_type": "code",
   "execution_count": 7,
   "metadata": {
    "collapsed": false
   },
   "outputs": [
    {
     "data": {
      "text/html": [
       "<div>\n",
       "<table border=\"1\" class=\"dataframe\">\n",
       "  <thead>\n",
       "    <tr style=\"text-align: right;\">\n",
       "      <th></th>\n",
       "      <th>hm</th>\n",
       "      <th>Station Number</th>\n",
       "      <th>Year Month Day Hour Minutes in YYYY</th>\n",
       "      <th>MM</th>\n",
       "      <th>DD</th>\n",
       "      <th>HH24</th>\n",
       "      <th>MI format in Local time</th>\n",
       "      <th>Year Month Day Hour Minutes in YYYY.1</th>\n",
       "      <th>MM.1</th>\n",
       "      <th>DD.1</th>\n",
       "      <th>...</th>\n",
       "      <th>Mean sea level pressure in hPa</th>\n",
       "      <th>Quality of mean sea level pressure</th>\n",
       "      <th>Station level pressure in hPa</th>\n",
       "      <th>Quality of station level pressure</th>\n",
       "      <th>AWS Flag</th>\n",
       "      <th>#</th>\n",
       "      <th>naive_mmddyyyy</th>\n",
       "      <th>local_mmddyyyy</th>\n",
       "      <th>precipitaion_lasthour</th>\n",
       "      <th>rainfall_since_last_hour</th>\n",
       "    </tr>\n",
       "    <tr>\n",
       "      <th>utc_mmddyyyy</th>\n",
       "      <th></th>\n",
       "      <th></th>\n",
       "      <th></th>\n",
       "      <th></th>\n",
       "      <th></th>\n",
       "      <th></th>\n",
       "      <th></th>\n",
       "      <th></th>\n",
       "      <th></th>\n",
       "      <th></th>\n",
       "      <th></th>\n",
       "      <th></th>\n",
       "      <th></th>\n",
       "      <th></th>\n",
       "      <th></th>\n",
       "      <th></th>\n",
       "      <th></th>\n",
       "      <th></th>\n",
       "      <th></th>\n",
       "      <th></th>\n",
       "      <th></th>\n",
       "    </tr>\n",
       "  </thead>\n",
       "  <tbody>\n",
       "    <tr>\n",
       "      <th>2015-01-15 00:00:00</th>\n",
       "      <td>hm</td>\n",
       "      <td>94029</td>\n",
       "      <td>2015</td>\n",
       "      <td>1</td>\n",
       "      <td>15</td>\n",
       "      <td>11</td>\n",
       "      <td>0</td>\n",
       "      <td>2015</td>\n",
       "      <td>1</td>\n",
       "      <td>15</td>\n",
       "      <td>...</td>\n",
       "      <td>1001.0</td>\n",
       "      <td>N</td>\n",
       "      <td>995.0</td>\n",
       "      <td>N</td>\n",
       "      <td>1</td>\n",
       "      <td>#</td>\n",
       "      <td>2015-01-15 11:00:00</td>\n",
       "      <td>2015-01-15 11:00:00+11:00</td>\n",
       "      <td>0.0</td>\n",
       "      <td>0.0</td>\n",
       "    </tr>\n",
       "    <tr>\n",
       "      <th>2015-01-15 01:00:00</th>\n",
       "      <td>hm</td>\n",
       "      <td>94029</td>\n",
       "      <td>2015</td>\n",
       "      <td>1</td>\n",
       "      <td>15</td>\n",
       "      <td>12</td>\n",
       "      <td>0</td>\n",
       "      <td>2015</td>\n",
       "      <td>1</td>\n",
       "      <td>15</td>\n",
       "      <td>...</td>\n",
       "      <td>1000.6</td>\n",
       "      <td>N</td>\n",
       "      <td>994.6</td>\n",
       "      <td>N</td>\n",
       "      <td>1</td>\n",
       "      <td>#</td>\n",
       "      <td>2015-01-15 12:00:00</td>\n",
       "      <td>2015-01-15 12:00:00+11:00</td>\n",
       "      <td>0.0</td>\n",
       "      <td>0.0</td>\n",
       "    </tr>\n",
       "    <tr>\n",
       "      <th>2015-01-15 02:00:00</th>\n",
       "      <td>hm</td>\n",
       "      <td>94029</td>\n",
       "      <td>2015</td>\n",
       "      <td>1</td>\n",
       "      <td>15</td>\n",
       "      <td>13</td>\n",
       "      <td>0</td>\n",
       "      <td>2015</td>\n",
       "      <td>1</td>\n",
       "      <td>15</td>\n",
       "      <td>...</td>\n",
       "      <td>1000.4</td>\n",
       "      <td>N</td>\n",
       "      <td>994.4</td>\n",
       "      <td>N</td>\n",
       "      <td>1</td>\n",
       "      <td>#</td>\n",
       "      <td>2015-01-15 13:00:00</td>\n",
       "      <td>2015-01-15 13:00:00+11:00</td>\n",
       "      <td>0.0</td>\n",
       "      <td>0.0</td>\n",
       "    </tr>\n",
       "    <tr>\n",
       "      <th>2015-01-15 03:00:00</th>\n",
       "      <td>hm</td>\n",
       "      <td>94029</td>\n",
       "      <td>2015</td>\n",
       "      <td>1</td>\n",
       "      <td>15</td>\n",
       "      <td>14</td>\n",
       "      <td>0</td>\n",
       "      <td>2015</td>\n",
       "      <td>1</td>\n",
       "      <td>15</td>\n",
       "      <td>...</td>\n",
       "      <td>1000.2</td>\n",
       "      <td>N</td>\n",
       "      <td>994.2</td>\n",
       "      <td>N</td>\n",
       "      <td>1</td>\n",
       "      <td>#</td>\n",
       "      <td>2015-01-15 14:00:00</td>\n",
       "      <td>2015-01-15 14:00:00+11:00</td>\n",
       "      <td>0.0</td>\n",
       "      <td>0.0</td>\n",
       "    </tr>\n",
       "  </tbody>\n",
       "</table>\n",
       "<p>4 rows × 43 columns</p>\n",
       "</div>"
      ],
      "text/plain": [
       "                     hm  Station Number  Year Month Day Hour Minutes in YYYY  \\\n",
       "utc_mmddyyyy                                                                   \n",
       "2015-01-15 00:00:00  hm           94029                                 2015   \n",
       "2015-01-15 01:00:00  hm           94029                                 2015   \n",
       "2015-01-15 02:00:00  hm           94029                                 2015   \n",
       "2015-01-15 03:00:00  hm           94029                                 2015   \n",
       "\n",
       "                     MM  DD  HH24  MI format in Local time  \\\n",
       "utc_mmddyyyy                                                 \n",
       "2015-01-15 00:00:00   1  15    11                        0   \n",
       "2015-01-15 01:00:00   1  15    12                        0   \n",
       "2015-01-15 02:00:00   1  15    13                        0   \n",
       "2015-01-15 03:00:00   1  15    14                        0   \n",
       "\n",
       "                     Year Month Day Hour Minutes in YYYY.1  MM.1  DD.1  \\\n",
       "utc_mmddyyyy                                                             \n",
       "2015-01-15 00:00:00                                   2015     1    15   \n",
       "2015-01-15 01:00:00                                   2015     1    15   \n",
       "2015-01-15 02:00:00                                   2015     1    15   \n",
       "2015-01-15 03:00:00                                   2015     1    15   \n",
       "\n",
       "                              ...             Mean sea level pressure in hPa  \\\n",
       "utc_mmddyyyy                  ...                                              \n",
       "2015-01-15 00:00:00           ...                                     1001.0   \n",
       "2015-01-15 01:00:00           ...                                     1000.6   \n",
       "2015-01-15 02:00:00           ...                                     1000.4   \n",
       "2015-01-15 03:00:00           ...                                     1000.2   \n",
       "\n",
       "                     Quality of mean sea level pressure  \\\n",
       "utc_mmddyyyy                                              \n",
       "2015-01-15 00:00:00                                   N   \n",
       "2015-01-15 01:00:00                                   N   \n",
       "2015-01-15 02:00:00                                   N   \n",
       "2015-01-15 03:00:00                                   N   \n",
       "\n",
       "                    Station level pressure in hPa  \\\n",
       "utc_mmddyyyy                                        \n",
       "2015-01-15 00:00:00                         995.0   \n",
       "2015-01-15 01:00:00                         994.6   \n",
       "2015-01-15 02:00:00                         994.4   \n",
       "2015-01-15 03:00:00                         994.2   \n",
       "\n",
       "                    Quality of station level pressure AWS Flag  #  \\\n",
       "utc_mmddyyyy                                                        \n",
       "2015-01-15 00:00:00                                 N        1  #   \n",
       "2015-01-15 01:00:00                                 N        1  #   \n",
       "2015-01-15 02:00:00                                 N        1  #   \n",
       "2015-01-15 03:00:00                                 N        1  #   \n",
       "\n",
       "                          naive_mmddyyyy             local_mmddyyyy  \\\n",
       "utc_mmddyyyy                                                          \n",
       "2015-01-15 00:00:00  2015-01-15 11:00:00  2015-01-15 11:00:00+11:00   \n",
       "2015-01-15 01:00:00  2015-01-15 12:00:00  2015-01-15 12:00:00+11:00   \n",
       "2015-01-15 02:00:00  2015-01-15 13:00:00  2015-01-15 13:00:00+11:00   \n",
       "2015-01-15 03:00:00  2015-01-15 14:00:00  2015-01-15 14:00:00+11:00   \n",
       "\n",
       "                    precipitaion_lasthour rainfall_since_last_hour  \n",
       "utc_mmddyyyy                                                        \n",
       "2015-01-15 00:00:00                   0.0                      0.0  \n",
       "2015-01-15 01:00:00                   0.0                      0.0  \n",
       "2015-01-15 02:00:00                   0.0                      0.0  \n",
       "2015-01-15 03:00:00                   0.0                      0.0  \n",
       "\n",
       "[4 rows x 43 columns]"
      ]
     },
     "execution_count": 7,
     "metadata": {},
     "output_type": "execute_result"
    }
   ],
   "source": [
    "df_bom.head(4)"
   ]
  },
  {
   "cell_type": "code",
   "execution_count": 8,
   "metadata": {
    "collapsed": false
   },
   "outputs": [],
   "source": [
    "# Prepare groundtruth dataframe from BOM \n",
    "tot_gfs_entries = len(df_gfs.index)\n",
    "df_gt = pd.DataFrame(index=df_gfs.index, columns=['rainfall_t+1','rainfall_t+2','rainfall_t+3'])\n",
    "for dt_gfs in range(0,tot_gfs_entries):\n",
    "    # Iterate each date in GFS and get the groundtruth rainfall from BOM\n",
    "    \n",
    "    date_a = df_gfs.index[dt_gfs] # Forecast time in gfs (made every three hours)\n",
    "    date_t1 = date_a + timedelta(hours=1) # rainfall_t+1\n",
    "    date_t2 = date_a + timedelta(hours=2) # rainfall_t+2\n",
    "    date_t3 = date_a + timedelta(hours=3) # rainfall_t+3\n",
    "    #print 'processing: ', date_a \n",
    "\n",
    "    # df_patch for t+1 (Gather groundtruth rainfall from BOM)\n",
    "    df_patch = df_bom.loc[date_a:date_t1].copy()\n",
    "    rainfall_t1 = df_patch.rainfall_since_last_hour.sum()\n",
    "    #print 'date_t1: ', date_t1 \n",
    "\n",
    "    \n",
    "    # df_patch for t+2 (Gather groundtruth rainfall from BOM)\n",
    "    df_patch = df_bom.loc[date_t1:date_t2].copy()\n",
    "    rainfall_t2 = df_patch.rainfall_since_last_hour.sum()\n",
    "    #print 'date_t2: ', date_t2 \n",
    "\n",
    "    \n",
    "    # df_patch for t+3 (Gather groundtruth rainfall from BOM)\n",
    "    df_patch = df_bom.loc[date_t2:date_t3].copy()\n",
    "    rainfall_t3 = df_patch.rainfall_since_last_hour.sum()\n",
    "    #print 'date_t3: ', date_t3, '\\n' \n",
    "\n",
    "    \n",
    "    # Add it to the groundtruth df\n",
    "    df_gt.loc[date_a] = [rainfall_t1, rainfall_t2, rainfall_t3]\n",
    "    \n",
    "    # Delete variables\n",
    "    del date_a\n",
    "    del date_t1\n",
    "    del date_t2\n",
    "    del date_t3\n",
    "    del rainfall_t1\n",
    "    del rainfall_t2\n",
    "    del rainfall_t3"
   ]
  },
  {
   "cell_type": "code",
   "execution_count": 9,
   "metadata": {
    "collapsed": false
   },
   "outputs": [],
   "source": [
    "# df_gt.to_csv(\"check.csv\")\n",
    "# X: df_gfs\n",
    "# Y: df_gt"
   ]
  },
  {
   "cell_type": "code",
   "execution_count": 10,
   "metadata": {
    "collapsed": false
   },
   "outputs": [
    {
     "name": "stdout",
     "output_type": "stream",
     "text": [
      "Index([u'apparent_temperature', u'cloud_water', u'dew_point_temp',\n",
      "       u'encoded_time', u'frozen_precipt', u'haines_index', u'lat', u'lon',\n",
      "       u'potential_temp', u'precipitable_water', u'press_l1', u'press_l103',\n",
      "       u'press_l6', u'press_l7', u'rel_humidity_level_a',\n",
      "       u'rel_humidity_level_b', u'rel_humidity_level_c',\n",
      "       u'rel_humidity_level_d', u'rel_humidity_level_e',\n",
      "       u'rel_humidity_level_f', u'sunshine_duration', u'surface_lifted_ind',\n",
      "       u'temp_level_a', u'temp_level_b', u'temp_level_c', u'temp_level_d',\n",
      "       u'temp_level_e', u'u_comp_storm', u'u_wind_level_a', u'u_wind_level_b',\n",
      "       u'u_wind_level_c', u'u_wind_level_d', u'u_wind_level_e',\n",
      "       u'v_comp_storm', u'v_comp_wind_3', u'v_comp_wind_a', u'v_comp_wind_b',\n",
      "       u'v_comp_wind_c', u'v_comp_wind_d', u'vert_vel', u'wilting_point',\n",
      "       u'wind_speed_gust'],\n",
      "      dtype='object')\n"
     ]
    }
   ],
   "source": [
    "print df_gfs.columns"
   ]
  },
  {
   "cell_type": "code",
   "execution_count": 11,
   "metadata": {
    "collapsed": false
   },
   "outputs": [
    {
     "name": "stdout",
     "output_type": "stream",
     "text": [
      "df_gt contains some null values. Filling these null values\n",
      "df_gt doesnot contain null values. PROCEED\n"
     ]
    }
   ],
   "source": [
    "# Check if dataframe is null\n",
    "is_df_gt_nan = df_gt.isnull().any().any()\n",
    "if (is_df_gt_nan):\n",
    "    print 'df_gt contains some null values. Filling these null values'\n",
    "    df_gt.fillna(method='ffill', inplace=True)\n",
    "\n",
    "# Check again if dataframe is null\n",
    "is_df_gt_nan = df_gt.isnull().any().any()\n",
    "if not is_df_gt_nan:\n",
    "    print 'df_gt doesnot contain null values. PROCEED'"
   ]
  },
  {
   "cell_type": "code",
   "execution_count": 12,
   "metadata": {
    "collapsed": false
   },
   "outputs": [],
   "source": [
    "col_list = ['apparent_temperature', 'cloud_water', 'dew_point_temp',\n",
    "'potential_temp', 'precipitable_water', 'press_l1', 'press_l103',\n",
    "'press_l6', 'press_l7', 'rel_humidity_level_a',\n",
    "'rel_humidity_level_b', 'rel_humidity_level_c',\n",
    "'rel_humidity_level_d', 'rel_humidity_level_e',\n",
    "'rel_humidity_level_f', 'sunshine_duration', 'surface_lifted_ind',\n",
    "'temp_level_a', 'temp_level_b', 'temp_level_c', 'temp_level_d',\n",
    "'temp_level_e', 'u_comp_storm', 'u_wind_level_a', 'u_wind_level_b',\n",
    "'u_wind_level_c', 'u_wind_level_d', 'u_wind_level_e',\n",
    "'v_comp_storm', 'v_comp_wind_3', 'v_comp_wind_a', 'v_comp_wind_b',\n",
    "'v_comp_wind_c', 'v_comp_wind_d', 'vert_vel', 'wind_speed_gust']\n",
    "\n",
    "# col_list = ['apparent_temperature', 'cloud_water']\n",
    "\n",
    "df_X = df_gfs[col_list].copy()\n",
    "df_Y = df_gt.copy()"
   ]
  },
  {
   "cell_type": "code",
   "execution_count": 13,
   "metadata": {
    "collapsed": false
   },
   "outputs": [
    {
     "name": "stdout",
     "output_type": "stream",
     "text": [
      "False THIS MUST BE FALSE\n"
     ]
    }
   ],
   "source": [
    "# Make sure that df_X is not null\n",
    "df_X_bool = df_X.isnull().any().any()\n",
    "print df_X_bool, 'THIS MUST BE FALSE' # This must be FALSE\n",
    "\n",
    "# df_X.isnull().any()"
   ]
  },
  {
   "cell_type": "code",
   "execution_count": 14,
   "metadata": {
    "collapsed": false
   },
   "outputs": [
    {
     "name": "stdout",
     "output_type": "stream",
     "text": [
      "going for scaling data \n",
      "\n",
      "tot_points:  3198  train_points:  1950\n",
      "Shape of data matrix:  (3198L, 36L)\n"
     ]
    }
   ],
   "source": [
    "bool_scaling = True\n",
    "if (bool_scaling):\n",
    "    print 'going for scaling data \\n'\n",
    "    \n",
    "    # -----------------------------------------------\n",
    "    #              IF SCALING IS REQUIRED \n",
    "    # ------------------------------------------------\n",
    "    # Prepare test and train points for scaling \n",
    "    tot_points = len(df_X)\n",
    "    train_points = int(np.floor(0.61*tot_points)) #-----CHANGE THIS FOR SCALING ONLY-------\n",
    "    print 'tot_points: ', tot_points, ' train_points: ', train_points\n",
    "\n",
    "    df_data_matrix = df_X.as_matrix()\n",
    "    print 'Shape of data matrix: ',df_data_matrix.shape\n",
    "\n",
    "    # Generate Train Sequence\n",
    "    x_train = np.copy(df_data_matrix[0:train_points + 1,:])\n",
    "\n",
    "    # Normalize data matrix with zero mean and unit covariance\n",
    "    # http://scikit-learn.org/stable/modules/preprocessing.html\n",
    "    scaler = preprocessing.StandardScaler().fit(x_train)\n",
    "\n",
    "    del tot_points\n",
    "    del train_points\n",
    "    del df_data_matrix\n",
    "    del x_train"
   ]
  },
  {
   "cell_type": "code",
   "execution_count": 15,
   "metadata": {
    "collapsed": false
   },
   "outputs": [
    {
     "name": "stdout",
     "output_type": "stream",
     "text": [
      "Shape of data matrix:  (3198L, 36L)\n",
      "Shape of label matrix:  (3198L, 3L)\n",
      "Now transforming df_data_matrix using scaler object\n",
      "\n",
      "Total Sample:  3198\n",
      "Dimension of each sample:  36\n",
      "LSTM input:  (3195L, 3L, 36L)\n",
      "LSTM output:  (3195L, 3L)\n"
     ]
    }
   ],
   "source": [
    "df_data_matrix = df_X.as_matrix()\n",
    "df_gt_rainfall_forecast_matrix = df_Y.as_matrix()\n",
    "print 'Shape of data matrix: ',df_data_matrix.shape\n",
    "print 'Shape of label matrix: ',df_gt_rainfall_forecast_matrix.shape\n",
    "\n",
    "# Normalize data matrix with zero mean and unit covariance\n",
    "# http://scikit-learn.org/stable/modules/preprocessing.html\n",
    "# df_data_matrix = preprocessing.scale(df_data_matrix)\n",
    "if (bool_scaling):\n",
    "    print 'Now transforming df_data_matrix using scaler object\\n'\n",
    "    df_data_matrix = scaler.transform(df_data_matrix)\n",
    "else:\n",
    "    print 'Using UN-transformed df_data_matrix\\n'\n",
    "    \n",
    "data_matrix = np.copy(df_data_matrix)\n",
    "label_matrix = np.copy(df_gt_rainfall_forecast_matrix)\n",
    "\n",
    "sliding_window = 3\n",
    "tot_samples = data_matrix.shape[0]\n",
    "sample_dimension = data_matrix.shape[1]\n",
    "print \"Total Sample: \",tot_samples\n",
    "print \"Dimension of each sample: \",sample_dimension\n",
    "    \n",
    "# Accumulate examples here in this list\n",
    "input_lstm = []\n",
    "label_lstm = []\n",
    "label_entry = sliding_window\n",
    "\n",
    "    \n",
    "for sequence in range(0,tot_samples-sliding_window):\n",
    "    input_lstm.append(data_matrix[sequence:sequence+sliding_window, :])\n",
    "    label_lstm.append(label_matrix[label_entry,0:3])\n",
    "    # print \"sequence, sequence+sliding_window, label_entry: \",sequence,sequence+sliding_window,label_entry\n",
    "    label_entry = label_entry + 1\n",
    "\n",
    "\n",
    "return_data_matrix_lstm = np.array(input_lstm)\n",
    "return_label_matrix_lstm = np.array(label_lstm)\n",
    "\n",
    "print \"LSTM input: \",return_data_matrix_lstm.shape\n",
    "print \"LSTM output: \",return_label_matrix_lstm.shape"
   ]
  },
  {
   "cell_type": "code",
   "execution_count": 16,
   "metadata": {
    "collapsed": false
   },
   "outputs": [
    {
     "name": "stdout",
     "output_type": "stream",
     "text": [
      "tot_points:  3195  train_points:  1948  test_points:  1247\n",
      "x_train_shape:  (1949L, 3L, 36L)  y_train_shape:  (1949L, 3L)\n",
      "x_test_shape:  (1246L, 3L, 36L)  y_test_shape:  (1246L, 3L)\n"
     ]
    }
   ],
   "source": [
    "# Prepare test and train points\n",
    "tot_points = return_data_matrix_lstm.shape[0]\n",
    "train_points = int(np.floor(0.61*tot_points)) \n",
    "test_points = tot_points - train_points\n",
    "print 'tot_points: ', tot_points, ' train_points: ', train_points, ' test_points: ', test_points\n",
    "\n",
    "# Generate Train Sequence\n",
    "x_train = np.copy(return_data_matrix_lstm[0:train_points + 1,:])\n",
    "y_train = np.copy(return_label_matrix_lstm[0:train_points + 1,:])\n",
    "# Generate Test Sequence\n",
    "x_test = np.copy(return_data_matrix_lstm[train_points + 1:tot_points + 1 ,:])\n",
    "y_test = np.copy(return_label_matrix_lstm[train_points + 1:tot_points + 1 ,:])\n",
    "\n",
    "print 'x_train_shape: ', x_train.shape, ' y_train_shape: ', y_train.shape\n",
    "print 'x_test_shape: ', x_test.shape, ' y_test_shape: ', y_test.shape"
   ]
  },
  {
   "cell_type": "code",
   "execution_count": 17,
   "metadata": {
    "collapsed": false
   },
   "outputs": [
    {
     "name": "stdout",
     "output_type": "stream",
     "text": [
      "(3738L, 1L)\n",
      "total test points:  3738\n",
      "(3738L, 1L)\n"
     ]
    }
   ],
   "source": [
    "vec_test = y_test.flatten()\n",
    "vec_test = vec_test.reshape((len(vec_test),1))\n",
    "print vec_test.shape\n",
    "print 'total test points: ', vec_test.shape[0]\n",
    "\n",
    "predictions = model.predict(x_test)\n",
    "pred_vec = predictions.flatten()\n",
    "pred_vec = pred_vec.reshape((len(pred_vec),1))\n",
    "print pred_vec.shape\n"
   ]
  },
  {
   "cell_type": "code",
   "execution_count": 18,
   "metadata": {
    "collapsed": false
   },
   "outputs": [],
   "source": [
    "# Preprocess block\n",
    "threshold = 0.01 # 0.01\n",
    "preproc_y = deepcopy(pred_vec)\n",
    "preproc_y[preproc_y<=threshold] = 0.0"
   ]
  },
  {
   "cell_type": "code",
   "execution_count": 22,
   "metadata": {
    "collapsed": false
   },
   "outputs": [
    {
     "data": {
      "text/plain": [
       "<matplotlib.text.Text at 0x20cfe208>"
      ]
     },
     "execution_count": 22,
     "metadata": {},
     "output_type": "execute_result"
    },
    {
     "data": {
      "image/png": "[encoded data removed]",
      "text/plain": [
       "<matplotlib.figure.Figure at 0x20b2bf28>"
      ]
     },
     "metadata": {},
     "output_type": "display_data"
    }
   ],
   "source": [
    "# For plot\n",
    "time_index = np.arange(0,vec_test.shape[0],1)\n",
    "time_index = time_index.reshape(((len(time_index),1)))\n",
    "\n",
    "plt_lower_limit = 0\n",
    "plt_upper_limit = 3738\n",
    "\n",
    "plt.figure(figsize=(25,8))\n",
    "\n",
    "# plot\n",
    "\n",
    "# Full plot\n",
    "plt.plot(time_index,vec_test,label=\"GroundTruth\",color='b')\n",
    "plt.plot(time_index,pred_vec,label=\"Prediction\",color='g')\n",
    "\n",
    "# Unpreprocessed Plot\n",
    "# plt.plot(time_index[plt_lower_limit:plt_upper_limit],vec_test[plt_lower_limit:plt_upper_limit],label=\"GroundTruth\",color='b')\n",
    "# plt.plot(time_index[plt_lower_limit:plt_upper_limit],pred_vec[plt_lower_limit:plt_upper_limit],label=\"Prediction\",color='g')\n",
    "\n",
    "# Preprocessed Plot\n",
    "# plt.plot(time_index[plt_lower_limit:plt_upper_limit],vec_test[plt_lower_limit:plt_upper_limit],label=\"GroundTruth\",color='b')\n",
    "# plt.plot(time_index[plt_lower_limit:plt_upper_limit],preproc_y[plt_lower_limit:plt_upper_limit],label=\"Prediction\",color='g')\n",
    "\n",
    "plt.xlabel('Time')\n",
    "plt.ylabel('Rainfall prediction in mm')\n",
    "plt.legend()\n",
    "plt.title('Groundtruth and Predicted Rainfall per hour')\n",
    "# img_filename = 'C:\\\\Users\\\\ShaukatAbidi\\\\Documents\\\\shaukat_python_progs\\\\learning\\\\time_series\\\\feed_forward_nn\\\\models\\\\s7_images\\\\'+str(test_ex)+'.png'\n",
    "# plt.savefig(img_filename, bbox_inches='tight')\n",
    "# plt.clf()"
   ]
  },
  {
   "cell_type": "code",
   "execution_count": null,
   "metadata": {
    "collapsed": false
   },
   "outputs": [],
   "source": [
    "print y_test.shape, predictions.shape"
   ]
  },
  {
   "cell_type": "code",
   "execution_count": null,
   "metadata": {
    "collapsed": false
   },
   "outputs": [],
   "source": [
    "mean_squared_error(y_test, predictions)"
   ]
  },
  {
   "cell_type": "code",
   "execution_count": null,
   "metadata": {
    "collapsed": false
   },
   "outputs": [],
   "source": [
    "model.metrics_names"
   ]
  },
  {
   "cell_type": "code",
   "execution_count": null,
   "metadata": {
    "collapsed": false
   },
   "outputs": [],
   "source": [
    "model.predict(x_test)[0]"
   ]
  },
  {
   "cell_type": "code",
   "execution_count": null,
   "metadata": {
    "collapsed": false
   },
   "outputs": [],
   "source": [
    "predictions[0]"
   ]
  },
  {
   "cell_type": "code",
   "execution_count": null,
   "metadata": {
    "collapsed": false
   },
   "outputs": [],
   "source": []
  },
  {
   "cell_type": "code",
   "execution_count": null,
   "metadata": {
    "collapsed": false
   },
   "outputs": [],
   "source": [
    "model.evaluate(x_test,y_test)"
   ]
  },
  {
   "cell_type": "code",
   "execution_count": null,
   "metadata": {
    "collapsed": true
   },
   "outputs": [],
   "source": []
  }
 ],
 "metadata": {
  "anaconda-cloud": {},
  "kernelspec": {
   "display_name": "Python [conda env:sequential_regression]",
   "language": "python",
   "name": "conda-env-sequential_regression-py"
  },
  "language_info": {
   "codemirror_mode": {
    "name": "ipython",
    "version": 2
   },
   "file_extension": ".py",
   "mimetype": "text/x-python",
   "name": "python",
   "nbconvert_exporter": "python",
   "pygments_lexer": "ipython2",
   "version": "2.7.13"
  }
 },
 "nbformat": 4,
 "nbformat_minor": 1
}
