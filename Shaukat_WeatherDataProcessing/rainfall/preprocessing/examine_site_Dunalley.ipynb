{
 "cells": [
  {
   "cell_type": "code",
   "execution_count": 1,
   "metadata": {
    "collapsed": false
   },
   "outputs": [],
   "source": [
    "# Run it once and Comment\n",
    "# import sys\n",
    "# sys.path.append('C:\\\\Shaukat\\\\code\\\\functions_implemented')\n",
    "# print sys.path\n",
    "# import functions_implemented as fi\n"
   ]
  },
  {
   "cell_type": "code",
   "execution_count": 2,
   "metadata": {
    "collapsed": false
   },
   "outputs": [
    {
     "name": "stderr",
     "output_type": "stream",
     "text": [
      "Using Theano backend.\n"
     ]
    }
   ],
   "source": [
    "import pandas as pd\n",
    "import numpy as np\n",
    "import matplotlib.pyplot as plt\n",
    "from sklearn import linear_model\n",
    "from sklearn import preprocessing\n",
    "from sklearn.preprocessing import PolynomialFeatures\n",
    "import scipy.stats as stats\n",
    "from datetime import datetime, timedelta\n",
    "\n",
    "from keras.models import Sequential\n",
    "from keras.layers import Dense\n",
    "from keras.wrappers.scikit_learn import KerasRegressor\n",
    "from keras.callbacks import ModelCheckpoint, CSVLogger, ReduceLROnPlateau\n",
    "from sklearn.model_selection import cross_val_score\n",
    "from sklearn.model_selection import KFold\n",
    "from sklearn.preprocessing import StandardScaler\n",
    "from sklearn.pipeline import Pipeline\n",
    "from sklearn.metrics import mean_squared_error\n",
    "from copy import deepcopy\n",
    "\n",
    "from keras.models import load_model\n",
    "\n",
    "%matplotlib inline\n",
    "\n",
    "\n",
    "\n"
   ]
  },
  {
   "cell_type": "code",
   "execution_count": 3,
   "metadata": {
    "collapsed": false
   },
   "outputs": [],
   "source": [
    "# df_gfs = pd.read_csv(\"C://Shaukat//code//data_rep//gfs//csv_files//gfs_dunalley.csv\")\n",
    "df_bom = pd.read_csv(\"C://Shaukat//code//data_rep//bom//Dunalley.csv\")"
   ]
  },
  {
   "cell_type": "code",
   "execution_count": 4,
   "metadata": {
    "collapsed": false
   },
   "outputs": [],
   "source": [
    "# Setting up GFS\n",
    "# df_gfs['Unnamed: 0'] = pd.to_datetime(df_gfs['Unnamed: 0'])\n",
    "# df_gfs.set_index('Unnamed: 0', inplace = True)\n",
    "\n",
    "# Setting up BOM\n",
    "# df_bom['date_only'] = df_bom.UtcTime.dt.date\n",
    "df_bom.UtcTime = pd.to_datetime(df_bom.UtcTime)\n",
    "df_bom['local_time_p1'] = df_bom['UtcTime'].shift(-1)\n",
    "# Drop LocalTime in Dunalley as it contains hours only\n",
    "df_bom.drop('LocalTime', axis=1)\n",
    "# Copy UTCTime to LocalTime in dunalley\n",
    "df_bom['LocalTime'] = df_bom['UtcTime']\n",
    "df_bom.set_index('UtcTime', inplace=True)\n",
    "\n",
    "# Trim df_bom and df_gfs from Aug 2016\n",
    "df_bom = df_bom.loc['2016-08-13 00:00:00':]\n",
    "# df_gfs = df_gfs.loc['2016-13-01 00:00:00':]"
   ]
  },
  {
   "cell_type": "code",
   "execution_count": 5,
   "metadata": {
    "collapsed": false
   },
   "outputs": [],
   "source": [
    "df_bom['local_time_p1'] = pd.to_datetime(df_bom['local_time_p1'])\n",
    "df_bom['LocalTime'] = pd.to_datetime(df_bom['LocalTime'])"
   ]
  },
  {
   "cell_type": "code",
   "execution_count": 6,
   "metadata": {
    "collapsed": false
   },
   "outputs": [],
   "source": [
    "df_bom['local_time_diff'] = df_bom['local_time_p1'] - df_bom['LocalTime']\n"
   ]
  },
  {
   "cell_type": "code",
   "execution_count": 7,
   "metadata": {
    "collapsed": false
   },
   "outputs": [],
   "source": [
    "# df_bom.to_csv('C://Shaukat//code//data_rep//bom//cygnet_timecheck.csv')"
   ]
  },
  {
   "cell_type": "code",
   "execution_count": 8,
   "metadata": {
    "collapsed": false
   },
   "outputs": [],
   "source": [
    "# df_bom.local_time_diff < timedelta(hours=1)"
   ]
  },
  {
   "cell_type": "code",
   "execution_count": 9,
   "metadata": {
    "collapsed": false
   },
   "outputs": [
    {
     "name": "stdout",
     "output_type": "stream",
     "text": [
      "gap between readings exceeds one hour\n",
      "\n",
      "gap between readings exceeds one hour\n",
      "\n",
      "gap between readings exceeds one hour\n",
      "\n",
      "gap between readings exceeds one hour\n",
      "\n",
      "gap between readings exceeds one hour\n",
      "\n",
      "gap between readings exceeds one hour\n",
      "\n",
      "gap between readings exceeds one hour\n",
      "\n",
      "gap between readings exceeds one hour\n",
      "\n",
      "gap between readings exceeds one hour\n",
      "\n",
      "gap between readings exceeds one hour\n",
      "\n",
      "gap between readings exceeds one hour\n",
      "\n",
      "gap between readings exceeds one hour\n",
      "\n",
      "gap between readings exceeds one hour\n",
      "\n",
      "gap between readings exceeds one hour\n",
      "\n",
      "gap between readings exceeds one hour\n",
      "\n",
      "gap between readings exceeds one hour\n",
      "\n",
      "gap between readings exceeds one hour\n",
      "\n",
      "gap between readings exceeds one hour\n",
      "\n",
      "This must be True:  False\n"
     ]
    }
   ],
   "source": [
    "flag = True \n",
    "list_ind = []\n",
    "\n",
    "for entry in range(0,len(df_bom.index)):\n",
    "    if df_bom.local_time_diff[entry] > timedelta(hours=1):\n",
    "        list_ind.append(entry)\n",
    "        print 'gap between readings exceeds one hour\\n'\n",
    "        flag = False\n",
    "\n",
    "print 'This must be True: ',flag"
   ]
  },
  {
   "cell_type": "code",
   "execution_count": 10,
   "metadata": {
    "collapsed": false
   },
   "outputs": [
    {
     "data": {
      "text/plain": [
       "[38,\n",
       " 72,\n",
       " 395,\n",
       " 1085,\n",
       " 3277,\n",
       " 5524,\n",
       " 5591,\n",
       " 7085,\n",
       " 7531,\n",
       " 7948,\n",
       " 9223,\n",
       " 9924,\n",
       " 14022,\n",
       " 14023,\n",
       " 14089,\n",
       " 14488,\n",
       " 16232,\n",
       " 16751]"
      ]
     },
     "execution_count": 10,
     "metadata": {},
     "output_type": "execute_result"
    }
   ],
   "source": [
    "list_ind"
   ]
  },
  {
   "cell_type": "code",
   "execution_count": 11,
   "metadata": {
    "collapsed": false
   },
   "outputs": [
    {
     "name": "stdout",
     "output_type": "stream",
     "text": [
      "gap between readings exceeds one day\n",
      "\n",
      "gap between readings exceeds one day\n",
      "\n",
      "This must be True:  False\n"
     ]
    }
   ],
   "source": [
    "flag = True \n",
    "list_ind = []\n",
    "\n",
    "for entry in range(0,len(df_bom.index)):\n",
    "    if df_bom.local_time_diff[entry] > timedelta(days=1):\n",
    "        list_ind.append(entry)\n",
    "        print 'gap between readings exceeds one day\\n'\n",
    "        flag = False\n",
    "\n",
    "print 'This must be True: ',flag"
   ]
  },
  {
   "cell_type": "code",
   "execution_count": 12,
   "metadata": {
    "collapsed": false
   },
   "outputs": [
    {
     "data": {
      "text/plain": [
       "UtcTime\n",
       "2016-08-15 12:00:00    1 days 11:00:00\n",
       "2016-08-18 08:00:00   18 days 14:00:00\n",
       "Name: local_time_diff, dtype: timedelta64[ns]"
      ]
     },
     "execution_count": 12,
     "metadata": {},
     "output_type": "execute_result"
    }
   ],
   "source": [
    "df_bom.local_time_diff[list_ind]"
   ]
  },
  {
   "cell_type": "code",
   "execution_count": null,
   "metadata": {
    "collapsed": false
   },
   "outputs": [],
   "source": []
  },
  {
   "cell_type": "code",
   "execution_count": null,
   "metadata": {
    "collapsed": true
   },
   "outputs": [],
   "source": []
  }
 ],
 "metadata": {
  "anaconda-cloud": {},
  "kernelspec": {
   "display_name": "Python [conda env:sequential_regression]",
   "language": "python",
   "name": "conda-env-sequential_regression-py"
  },
  "language_info": {
   "codemirror_mode": {
    "name": "ipython",
    "version": 2
   },
   "file_extension": ".py",
   "mimetype": "text/x-python",
   "name": "python",
   "nbconvert_exporter": "python",
   "pygments_lexer": "ipython2",
   "version": "2.7.13"
  }
 },
 "nbformat": 4,
 "nbformat_minor": 1
}
