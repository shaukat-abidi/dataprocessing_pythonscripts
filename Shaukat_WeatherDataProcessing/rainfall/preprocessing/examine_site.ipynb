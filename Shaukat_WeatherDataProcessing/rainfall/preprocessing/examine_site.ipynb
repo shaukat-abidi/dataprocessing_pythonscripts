{
 "cells": [
  {
   "cell_type": "code",
   "execution_count": 1,
   "metadata": {
    "collapsed": false
   },
   "outputs": [],
   "source": [
    "# Run it once and Comment\n",
    "# import sys\n",
    "# sys.path.append('C:\\\\Shaukat\\\\code\\\\functions_implemented')\n",
    "# print sys.path\n",
    "# import functions_implemented as fi\n"
   ]
  },
  {
   "cell_type": "code",
   "execution_count": 2,
   "metadata": {
    "collapsed": false
   },
   "outputs": [
    {
     "name": "stderr",
     "output_type": "stream",
     "text": [
      "Using Theano backend.\n"
     ]
    }
   ],
   "source": [
    "import pandas as pd\n",
    "import numpy as np\n",
    "import matplotlib.pyplot as plt\n",
    "from sklearn import linear_model\n",
    "from sklearn import preprocessing\n",
    "from sklearn.preprocessing import PolynomialFeatures\n",
    "import scipy.stats as stats\n",
    "from datetime import datetime, timedelta\n",
    "\n",
    "from keras.models import Sequential\n",
    "from keras.layers import Dense\n",
    "from keras.wrappers.scikit_learn import KerasRegressor\n",
    "from keras.callbacks import ModelCheckpoint, CSVLogger, ReduceLROnPlateau\n",
    "from sklearn.model_selection import cross_val_score\n",
    "from sklearn.model_selection import KFold\n",
    "from sklearn.preprocessing import StandardScaler\n",
    "from sklearn.pipeline import Pipeline\n",
    "from sklearn.metrics import mean_squared_error\n",
    "from copy import deepcopy\n",
    "\n",
    "from keras.models import load_model\n",
    "\n",
    "%matplotlib inline\n",
    "\n",
    "\n",
    "\n"
   ]
  },
  {
   "cell_type": "code",
   "execution_count": 3,
   "metadata": {
    "collapsed": false
   },
   "outputs": [],
   "source": [
    "# df_gfs = pd.read_csv(\"C://Shaukat//code//data_rep//gfs//csv_files//gfs_dunalley.csv\")\n",
    "df_bom = pd.read_csv(\"C://Shaukat//code//data_rep//bom//Woodbridge.csv\")"
   ]
  },
  {
   "cell_type": "code",
   "execution_count": 4,
   "metadata": {
    "collapsed": false
   },
   "outputs": [],
   "source": [
    "# Setting up GFS\n",
    "# df_gfs['Unnamed: 0'] = pd.to_datetime(df_gfs['Unnamed: 0'])\n",
    "# df_gfs.set_index('Unnamed: 0', inplace = True)\n",
    "\n",
    "# Setting up BOM\n",
    "# df_bom['date_only'] = df_bom.UtcTime.dt.date\n",
    "df_bom.UtcTime = pd.to_datetime(df_bom.UtcTime)\n",
    "df_bom.set_index('UtcTime', inplace=True)\n",
    "\n",
    "# Trim df_bom and df_gfs from november 2016\n",
    "df_bom = df_bom.loc['2016-01-01 00:00:00':]\n",
    "# df_gfs = df_gfs.loc['2016-11-01 00:00:00':]"
   ]
  },
  {
   "cell_type": "code",
   "execution_count": 5,
   "metadata": {
    "collapsed": true
   },
   "outputs": [],
   "source": [
    "df_bom['local_time_p1'] = df_bom['LocalTime'].shift(-1)"
   ]
  },
  {
   "cell_type": "code",
   "execution_count": 6,
   "metadata": {
    "collapsed": false
   },
   "outputs": [],
   "source": [
    "df_bom['local_time_p1'] = pd.to_datetime(df_bom['local_time_p1'])\n",
    "df_bom['LocalTime'] = pd.to_datetime(df_bom['LocalTime'])"
   ]
  },
  {
   "cell_type": "code",
   "execution_count": 7,
   "metadata": {
    "collapsed": false
   },
   "outputs": [],
   "source": [
    "df_bom['local_time_diff'] = df_bom['local_time_p1'] - df_bom['LocalTime']\n"
   ]
  },
  {
   "cell_type": "code",
   "execution_count": 8,
   "metadata": {
    "collapsed": false
   },
   "outputs": [
    {
     "data": {
      "text/html": [
       "<div>\n",
       "<table border=\"1\" class=\"dataframe\">\n",
       "  <thead>\n",
       "    <tr style=\"text-align: right;\">\n",
       "      <th></th>\n",
       "      <th>ObservationId</th>\n",
       "      <th>Timestamp</th>\n",
       "      <th>ParentLocationId</th>\n",
       "      <th>RelatedLocationId</th>\n",
       "      <th>ReadingId</th>\n",
       "      <th>LocalTime</th>\n",
       "      <th>TimeZone</th>\n",
       "      <th>Temperature</th>\n",
       "      <th>FeelsLike</th>\n",
       "      <th>DewPoint</th>\n",
       "      <th>...</th>\n",
       "      <th>WindDirection</th>\n",
       "      <th>WindDirectionCompass</th>\n",
       "      <th>WindSpeed</th>\n",
       "      <th>WindGust</th>\n",
       "      <th>RainSince9am</th>\n",
       "      <th>Pressure</th>\n",
       "      <th>RainfallLastHour</th>\n",
       "      <th>RainfallLast10Minutes</th>\n",
       "      <th>local_time_p1</th>\n",
       "      <th>local_time_diff</th>\n",
       "    </tr>\n",
       "    <tr>\n",
       "      <th>UtcTime</th>\n",
       "      <th></th>\n",
       "      <th></th>\n",
       "      <th></th>\n",
       "      <th></th>\n",
       "      <th></th>\n",
       "      <th></th>\n",
       "      <th></th>\n",
       "      <th></th>\n",
       "      <th></th>\n",
       "      <th></th>\n",
       "      <th></th>\n",
       "      <th></th>\n",
       "      <th></th>\n",
       "      <th></th>\n",
       "      <th></th>\n",
       "      <th></th>\n",
       "      <th></th>\n",
       "      <th></th>\n",
       "      <th></th>\n",
       "      <th></th>\n",
       "      <th></th>\n",
       "    </tr>\n",
       "  </thead>\n",
       "  <tbody>\n",
       "    <tr>\n",
       "      <th>2016-09-08 05:30:00</th>\n",
       "      <td>13616</td>\n",
       "      <td>1473276600</td>\n",
       "      <td>16</td>\n",
       "      <td>94255</td>\n",
       "      <td>8162</td>\n",
       "      <td>2016-09-08 05:30:00</td>\n",
       "      <td>Australia/Hobart</td>\n",
       "      <td>17.799999</td>\n",
       "      <td>17.799999</td>\n",
       "      <td>8.9</td>\n",
       "      <td>...</td>\n",
       "      <td>352</td>\n",
       "      <td>N</td>\n",
       "      <td>28</td>\n",
       "      <td>43</td>\n",
       "      <td>0.0</td>\n",
       "      <td>1014.0</td>\n",
       "      <td>0.0</td>\n",
       "      <td>0.0</td>\n",
       "      <td>2016-09-08 05:40:00</td>\n",
       "      <td>00:10:00</td>\n",
       "    </tr>\n",
       "    <tr>\n",
       "      <th>2016-09-08 05:40:00</th>\n",
       "      <td>13624</td>\n",
       "      <td>1473277200</td>\n",
       "      <td>16</td>\n",
       "      <td>94255</td>\n",
       "      <td>8179</td>\n",
       "      <td>2016-09-08 05:40:00</td>\n",
       "      <td>Australia/Hobart</td>\n",
       "      <td>17.000000</td>\n",
       "      <td>17.000000</td>\n",
       "      <td>8.9</td>\n",
       "      <td>...</td>\n",
       "      <td>3</td>\n",
       "      <td>N</td>\n",
       "      <td>19</td>\n",
       "      <td>22</td>\n",
       "      <td>0.0</td>\n",
       "      <td>0.0</td>\n",
       "      <td>0.0</td>\n",
       "      <td>0.0</td>\n",
       "      <td>2016-09-08 05:50:00</td>\n",
       "      <td>00:10:00</td>\n",
       "    </tr>\n",
       "    <tr>\n",
       "      <th>2016-09-08 05:50:00</th>\n",
       "      <td>13640</td>\n",
       "      <td>1473277800</td>\n",
       "      <td>16</td>\n",
       "      <td>94255</td>\n",
       "      <td>8196</td>\n",
       "      <td>2016-09-08 05:50:00</td>\n",
       "      <td>Australia/Hobart</td>\n",
       "      <td>16.700001</td>\n",
       "      <td>16.700001</td>\n",
       "      <td>9.4</td>\n",
       "      <td>...</td>\n",
       "      <td>10</td>\n",
       "      <td>N</td>\n",
       "      <td>15</td>\n",
       "      <td>15</td>\n",
       "      <td>0.0</td>\n",
       "      <td>0.0</td>\n",
       "      <td>0.0</td>\n",
       "      <td>0.0</td>\n",
       "      <td>2016-09-08 06:00:00</td>\n",
       "      <td>00:10:00</td>\n",
       "    </tr>\n",
       "    <tr>\n",
       "      <th>2016-09-08 06:00:00</th>\n",
       "      <td>13653</td>\n",
       "      <td>1473278400</td>\n",
       "      <td>16</td>\n",
       "      <td>94255</td>\n",
       "      <td>8213</td>\n",
       "      <td>2016-09-08 06:00:00</td>\n",
       "      <td>Australia/Hobart</td>\n",
       "      <td>16.700001</td>\n",
       "      <td>16.700001</td>\n",
       "      <td>9.6</td>\n",
       "      <td>...</td>\n",
       "      <td>10</td>\n",
       "      <td>N</td>\n",
       "      <td>17</td>\n",
       "      <td>22</td>\n",
       "      <td>0.0</td>\n",
       "      <td>1014.0</td>\n",
       "      <td>0.0</td>\n",
       "      <td>0.0</td>\n",
       "      <td>2016-09-08 06:10:00</td>\n",
       "      <td>00:10:00</td>\n",
       "    </tr>\n",
       "    <tr>\n",
       "      <th>2016-09-08 06:10:00</th>\n",
       "      <td>13668</td>\n",
       "      <td>1473279000</td>\n",
       "      <td>16</td>\n",
       "      <td>94255</td>\n",
       "      <td>8230</td>\n",
       "      <td>2016-09-08 06:10:00</td>\n",
       "      <td>Australia/Hobart</td>\n",
       "      <td>16.400000</td>\n",
       "      <td>16.400000</td>\n",
       "      <td>9.3</td>\n",
       "      <td>...</td>\n",
       "      <td>2</td>\n",
       "      <td>N</td>\n",
       "      <td>13</td>\n",
       "      <td>17</td>\n",
       "      <td>0.0</td>\n",
       "      <td>0.0</td>\n",
       "      <td>0.0</td>\n",
       "      <td>0.0</td>\n",
       "      <td>2016-09-08 06:40:00</td>\n",
       "      <td>00:30:00</td>\n",
       "    </tr>\n",
       "  </tbody>\n",
       "</table>\n",
       "<p>5 rows × 21 columns</p>\n",
       "</div>"
      ],
      "text/plain": [
       "                     ObservationId   Timestamp  ParentLocationId  \\\n",
       "UtcTime                                                            \n",
       "2016-09-08 05:30:00          13616  1473276600                16   \n",
       "2016-09-08 05:40:00          13624  1473277200                16   \n",
       "2016-09-08 05:50:00          13640  1473277800                16   \n",
       "2016-09-08 06:00:00          13653  1473278400                16   \n",
       "2016-09-08 06:10:00          13668  1473279000                16   \n",
       "\n",
       "                     RelatedLocationId  ReadingId           LocalTime  \\\n",
       "UtcTime                                                                 \n",
       "2016-09-08 05:30:00              94255       8162 2016-09-08 05:30:00   \n",
       "2016-09-08 05:40:00              94255       8179 2016-09-08 05:40:00   \n",
       "2016-09-08 05:50:00              94255       8196 2016-09-08 05:50:00   \n",
       "2016-09-08 06:00:00              94255       8213 2016-09-08 06:00:00   \n",
       "2016-09-08 06:10:00              94255       8230 2016-09-08 06:10:00   \n",
       "\n",
       "                             TimeZone  Temperature  FeelsLike  DewPoint  \\\n",
       "UtcTime                                                                   \n",
       "2016-09-08 05:30:00  Australia/Hobart    17.799999  17.799999       8.9   \n",
       "2016-09-08 05:40:00  Australia/Hobart    17.000000  17.000000       8.9   \n",
       "2016-09-08 05:50:00  Australia/Hobart    16.700001  16.700001       9.4   \n",
       "2016-09-08 06:00:00  Australia/Hobart    16.700001  16.700001       9.6   \n",
       "2016-09-08 06:10:00  Australia/Hobart    16.400000  16.400000       9.3   \n",
       "\n",
       "                          ...        WindDirection  WindDirectionCompass  \\\n",
       "UtcTime                   ...                                              \n",
       "2016-09-08 05:30:00       ...                  352                     N   \n",
       "2016-09-08 05:40:00       ...                    3                     N   \n",
       "2016-09-08 05:50:00       ...                   10                     N   \n",
       "2016-09-08 06:00:00       ...                   10                     N   \n",
       "2016-09-08 06:10:00       ...                    2                     N   \n",
       "\n",
       "                    WindSpeed  WindGust  RainSince9am  Pressure  \\\n",
       "UtcTime                                                           \n",
       "2016-09-08 05:30:00        28        43           0.0    1014.0   \n",
       "2016-09-08 05:40:00        19        22           0.0       0.0   \n",
       "2016-09-08 05:50:00        15        15           0.0       0.0   \n",
       "2016-09-08 06:00:00        17        22           0.0    1014.0   \n",
       "2016-09-08 06:10:00        13        17           0.0       0.0   \n",
       "\n",
       "                     RainfallLastHour  RainfallLast10Minutes  \\\n",
       "UtcTime                                                        \n",
       "2016-09-08 05:30:00               0.0                    0.0   \n",
       "2016-09-08 05:40:00               0.0                    0.0   \n",
       "2016-09-08 05:50:00               0.0                    0.0   \n",
       "2016-09-08 06:00:00               0.0                    0.0   \n",
       "2016-09-08 06:10:00               0.0                    0.0   \n",
       "\n",
       "                          local_time_p1 local_time_diff  \n",
       "UtcTime                                                  \n",
       "2016-09-08 05:30:00 2016-09-08 05:40:00        00:10:00  \n",
       "2016-09-08 05:40:00 2016-09-08 05:50:00        00:10:00  \n",
       "2016-09-08 05:50:00 2016-09-08 06:00:00        00:10:00  \n",
       "2016-09-08 06:00:00 2016-09-08 06:10:00        00:10:00  \n",
       "2016-09-08 06:10:00 2016-09-08 06:40:00        00:30:00  \n",
       "\n",
       "[5 rows x 21 columns]"
      ]
     },
     "execution_count": 8,
     "metadata": {},
     "output_type": "execute_result"
    }
   ],
   "source": [
    "df_bom.head(5)\n",
    "# df_bom.to_csv('C://Shaukat//code//data_rep//bom//EagleHawk_timecheck.csv')"
   ]
  },
  {
   "cell_type": "code",
   "execution_count": null,
   "metadata": {
    "collapsed": false
   },
   "outputs": [],
   "source": [
    "# df_bom.local_time_diff < timedelta(hours=1)"
   ]
  },
  {
   "cell_type": "code",
   "execution_count": 9,
   "metadata": {
    "collapsed": false
   },
   "outputs": [
    {
     "name": "stdout",
     "output_type": "stream",
     "text": [
      "gap between readings exceeds one hour\n",
      "\n",
      "gap between readings exceeds one hour\n",
      "\n",
      "gap between readings exceeds one hour\n",
      "\n",
      "gap between readings exceeds one hour\n",
      "\n",
      "gap between readings exceeds one hour\n",
      "\n",
      "gap between readings exceeds one hour\n",
      "\n",
      "gap between readings exceeds one hour\n",
      "\n",
      "gap between readings exceeds one hour\n",
      "\n",
      "gap between readings exceeds one hour\n",
      "\n",
      "gap between readings exceeds one hour\n",
      "\n",
      "gap between readings exceeds one hour\n",
      "\n",
      "This must be True:  False\n"
     ]
    }
   ],
   "source": [
    "flag = True \n",
    "list_ind = []\n",
    "\n",
    "for entry in range(0,len(df_bom.index)):\n",
    "    if df_bom.local_time_diff[entry] > timedelta(hours=1):\n",
    "        list_ind.append(entry)\n",
    "        print 'gap between readings exceeds one hour\\n'\n",
    "        flag = False\n",
    "\n",
    "print 'This must be True: ',flag"
   ]
  },
  {
   "cell_type": "code",
   "execution_count": 10,
   "metadata": {
    "collapsed": false
   },
   "outputs": [
    {
     "data": {
      "text/plain": [
       "[66, 91, 460, 1739, 2590, 4858, 6337, 6783, 7195, 8446, 9162]"
      ]
     },
     "execution_count": 10,
     "metadata": {},
     "output_type": "execute_result"
    }
   ],
   "source": [
    "list_ind"
   ]
  },
  {
   "cell_type": "code",
   "execution_count": 11,
   "metadata": {
    "collapsed": false
   },
   "outputs": [
    {
     "name": "stdout",
     "output_type": "stream",
     "text": [
      "gap between readings exceeds one day\n",
      "\n",
      "This must be True:  False\n"
     ]
    }
   ],
   "source": [
    "flag = True \n",
    "list_ind = []\n",
    "\n",
    "for entry in range(0,len(df_bom.index)):\n",
    "    if df_bom.local_time_diff[entry] > timedelta(days=1):\n",
    "        list_ind.append(entry)\n",
    "        print 'gap between readings exceeds one day\\n'\n",
    "        flag = False\n",
    "\n",
    "print 'This must be True: ',flag"
   ]
  },
  {
   "cell_type": "code",
   "execution_count": 12,
   "metadata": {
    "collapsed": false
   },
   "outputs": [
    {
     "data": {
      "text/plain": [
       "UtcTime\n",
       "2016-09-09 05:00:00   2 days 18:10:00\n",
       "Name: local_time_diff, dtype: timedelta64[ns]"
      ]
     },
     "execution_count": 12,
     "metadata": {},
     "output_type": "execute_result"
    }
   ],
   "source": [
    "df_bom.local_time_diff[list_ind]"
   ]
  },
  {
   "cell_type": "code",
   "execution_count": 13,
   "metadata": {
    "collapsed": false
   },
   "outputs": [
    {
     "data": {
      "text/plain": [
       "[91]"
      ]
     },
     "execution_count": 13,
     "metadata": {},
     "output_type": "execute_result"
    }
   ],
   "source": [
    "list_ind"
   ]
  },
  {
   "cell_type": "code",
   "execution_count": null,
   "metadata": {
    "collapsed": true
   },
   "outputs": [],
   "source": []
  }
 ],
 "metadata": {
  "anaconda-cloud": {},
  "kernelspec": {
   "display_name": "Python [conda env:sequential_regression]",
   "language": "python",
   "name": "conda-env-sequential_regression-py"
  },
  "language_info": {
   "codemirror_mode": {
    "name": "ipython",
    "version": 2
   },
   "file_extension": ".py",
   "mimetype": "text/x-python",
   "name": "python",
   "nbconvert_exporter": "python",
   "pygments_lexer": "ipython2",
   "version": "2.7.13"
  }
 },
 "nbformat": 4,
 "nbformat_minor": 1
}
